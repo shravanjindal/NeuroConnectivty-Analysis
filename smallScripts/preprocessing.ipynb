{
 "cells": [
  {
   "cell_type": "markdown",
   "metadata": {},
   "source": [
    "# Importing Libraries"
   ]
  },
  {
   "cell_type": "code",
   "execution_count": 2,
   "metadata": {},
   "outputs": [],
   "source": [
    "import mne\n",
    "import pathlib\n",
    "import pandas as pd\n",
    "\n",
    "# import asrpy\n",
    "import numpy as np\n",
    "import matplotlib.pyplot as plt\n",
    "\n",
    "from mne.time_frequency import tfr_morlet"
   ]
  },
  {
   "cell_type": "code",
   "execution_count": 3,
   "metadata": {},
   "outputs": [],
   "source": [
    "mne.utils.set_config('MNE_USE_CUDA', 'true')  "
   ]
  },
  {
   "cell_type": "code",
   "execution_count": 4,
   "metadata": {},
   "outputs": [
    {
     "data": {
      "text/plain": [
       "PosixPath('..')"
      ]
     },
     "execution_count": 4,
     "metadata": {},
     "output_type": "execute_result"
    }
   ],
   "source": [
    "data_dir = \"../\"\n",
    "data_dir = pathlib.Path(data_dir)\n",
    "data_dir"
   ]
  },
  {
   "cell_type": "markdown",
   "metadata": {},
   "source": [
    "# Extracting files"
   ]
  },
  {
   "cell_type": "code",
   "execution_count": 13,
   "metadata": {},
   "outputs": [],
   "source": [
    "types = 'think2'\n",
    "FILES = list(data_dir.glob(f\"sub-*/eeg/*{types}*.bdf\"))"
   ]
  },
  {
   "cell_type": "markdown",
   "metadata": {},
   "source": [
    "# Extracting raw data using MNE"
   ]
  },
  {
   "cell_type": "code",
   "execution_count": 14,
   "metadata": {},
   "outputs": [],
   "source": [
    "%%capture\n",
    "newfiles = []\n",
    "for f in FILES:\n",
    "    try:\n",
    "        raw = mne.io.read_raw_bdf(f,preload=True)\n",
    "        total_time_sec = raw.times[-1] - raw.times[0]\n",
    "        if total_time_sec >= 600:\n",
    "            newfiles.append(f)\n",
    "    except:\n",
    "        print(\"hi\")"
   ]
  },
  {
   "cell_type": "code",
   "execution_count": 7,
   "metadata": {},
   "outputs": [],
   "source": [
    "import re\n",
    "filesHTR, filesCTR, filesVIP, filesSNY = [],[],[],[]\n",
    "for f in newfiles:\n",
    "    numbers = re.findall(r'\\d+', str(f))\n",
    "    numbers = [int(num) for num in numbers]\n",
    "    n = numbers[0]\n",
    "    if n <= 24:\n",
    "        filesHTR.append(f)\n",
    "    elif n <= 55 and n>24:\n",
    "        filesCTR.append(f)\n",
    "    elif n <= 78 and n>=60:\n",
    "        filesVIP.append(f)\n",
    "    else:\n",
    "        filesSNY.append(f)"
   ]
  },
  {
   "cell_type": "code",
   "execution_count": 8,
   "metadata": {},
   "outputs": [
    {
     "name": "stdout",
     "output_type": "stream",
     "text": [
      "13 31 14 19\n"
     ]
    }
   ],
   "source": [
    "print(len(filesHTR),len(filesCTR),len(filesVIP),len(filesSNY))"
   ]
  },
  {
   "cell_type": "code",
   "execution_count": 11,
   "metadata": {},
   "outputs": [],
   "source": [
    "filespaths = [f'./data/files/{types}HTR.txt',f'./data/files/{types}CTR.txt',f'./data/files/{types}VIP.txt',f'./data/files/{types}SNY.txt']\n",
    "lists = [filesHTR,filesCTR,filesVIP,filesSNY]"
   ]
  },
  {
   "cell_type": "code",
   "execution_count": null,
   "metadata": {},
   "outputs": [],
   "source": [
    "for path in filespaths:\n",
    "    with open(path,'w') as file:\n",
    "        "
   ]
  },
  {
   "cell_type": "code",
   "execution_count": 10,
   "metadata": {},
   "outputs": [],
   "source": [
    "numberOfFiles = 10\n",
    "\n",
    "# Compute the number of elements to delete\n",
    "a = len(filesHTR) - numberOfFiles\n",
    "b = len(filesCTR) - numberOfFiles\n",
    "c = len(filesVIP) - numberOfFiles\n",
    "d = len(filesSNY) - numberOfFiles\n",
    "\n",
    "# Use slicing to remove elements\n",
    "filesHTR = filesHTR[a:] if a > 0 else filesHTR\n",
    "filesCTR = filesCTR[b:] if b > 0 else filesCTR\n",
    "filesVIP = filesVIP[c:] if c > 0 else filesVIP\n",
    "filesSNY = filesSNY[d:] if d > 0 else filesSNY"
   ]
  },
  {
   "cell_type": "code",
   "execution_count": 11,
   "metadata": {},
   "outputs": [
    {
     "name": "stdout",
     "output_type": "stream",
     "text": [
      "10 10 10 10\n"
     ]
    }
   ],
   "source": [
    "print(len(filesHTR),len(filesCTR),len(filesVIP),len(filesSNY))"
   ]
  },
  {
   "cell_type": "code",
   "execution_count": 12,
   "metadata": {},
   "outputs": [],
   "source": [
    "%%capture\n",
    "FILES = filesHTR + filesCTR + filesVIP + filesSNY\n",
    "rawData = []\n",
    "for f in FILES:\n",
    "    raw = mne.io.read_raw_bdf(f,preload=True)\n",
    "    rawData.append(raw)"
   ]
  },
  {
   "cell_type": "markdown",
   "metadata": {},
   "source": [
    "# Dropping Channels"
   ]
  },
  {
   "cell_type": "code",
   "execution_count": 13,
   "metadata": {},
   "outputs": [],
   "source": [
    "rawDropped = []\n",
    "for i in range(40):\n",
    "    n = rawData[i].info['ch_names']\n",
    "    if(len(n)==73):\n",
    "        rawDropped.append(rawData[i].drop_channels(n[-9:]))\n",
    "    elif(len(n)==80):\n",
    "        rawDropped.append(rawData[i].drop_channels(n[-16:]))\n",
    "    else:\n",
    "        rawDropped.append(rawData[i])"
   ]
  },
  {
   "cell_type": "markdown",
   "metadata": {},
   "source": [
    "# Trimming"
   ]
  },
  {
   "cell_type": "code",
   "execution_count": 14,
   "metadata": {},
   "outputs": [],
   "source": [
    "start_time = 0  # start time in seconds\n",
    "end_time = 600    # end time in seconds\n",
    "rawTrimmedData = []\n",
    "for raw in rawDropped:\n",
    "    raw_trimmed = raw.copy().crop(tmin=start_time, tmax=end_time)\n",
    "    rawTrimmedData.append(raw_trimmed)"
   ]
  },
  {
   "cell_type": "markdown",
   "metadata": {},
   "source": [
    "# DownSampling"
   ]
  },
  {
   "cell_type": "code",
   "execution_count": 15,
   "metadata": {},
   "outputs": [],
   "source": [
    "%%capture\n",
    "# Downsample the data to 256 Hz\n",
    "fs_new = 256  # New sampling frequency in Hz\n",
    "rawDownSampled = []\n",
    "for raw in rawTrimmedData:\n",
    "    raw_ds = raw.resample(fs_new, n_jobs='cuda')\n",
    "    rawDownSampled.append(raw_ds)"
   ]
  },
  {
   "cell_type": "markdown",
   "metadata": {},
   "source": [
    "# Filtering"
   ]
  },
  {
   "cell_type": "code",
   "execution_count": 16,
   "metadata": {},
   "outputs": [],
   "source": [
    "# Preprocessing\n",
    "# Cleaning the entire EEG \n",
    "def get_filtered_eeg(raw):\n",
    "    low_freq = 0.3\n",
    "    high_freq = 100.0\n",
    "\n",
    "    raw_filtered = raw.copy().notch_filter(freqs=50)\n",
    "\n",
    "    # Apply the bandpass filter\n",
    "    raw_filtered = raw_filtered.filter(l_freq=low_freq, h_freq=high_freq, fir_design='firwin', n_jobs=20)\n",
    "\n",
    "    #ASR cleaning with cutoff=20\n",
    "    # asr = asrpy.ASR(sfreq=raw.info[\"sfreq\"], cutoff=20)\n",
    "    # asr.fit(raw_filtered)\n",
    "    # raw_filtered = asr.transform(raw_filtered)\n",
    "\n",
    "    ica = mne.preprocessing.ICA(n_components=15, max_iter=\"auto\", random_state=97)\n",
    "    ica.fit(raw_filtered)\n",
    "\n",
    "    # # ica.plot_components()\n",
    "\n",
    "    ica.exclude = []\n",
    "    # find which ICs match the EOG pattern; no EOG attached, Taking Fp1 as proxy\n",
    "    eog_indices, eog_scores = ica.find_bads_eog(raw_filtered,ch_name=\"Fp1\")\n",
    "    ica.exclude = eog_indices\n",
    "    ica.apply(raw_filtered)\n",
    "    return raw_filtered"
   ]
  },
  {
   "cell_type": "code",
   "execution_count": 17,
   "metadata": {},
   "outputs": [],
   "source": [
    "%%capture\n",
    "rawFiltered = []\n",
    "for raw in rawDownSampled:\n",
    "    rawFiltered.append(get_filtered_eeg(raw.copy()))"
   ]
  },
  {
   "cell_type": "code",
   "execution_count": 18,
   "metadata": {},
   "outputs": [
    {
     "data": {
      "text/plain": [
       "array(['Fp1', 'AF7', 'AF3', 'F1', 'F3', 'F5', 'F7', 'FT7', 'FC5', 'FC3',\n",
       "       'FC1', 'C1', 'C3', 'C5', 'T7', 'TP7', 'CP5', 'CP3', 'CP1', 'P1',\n",
       "       'P3', 'P5', 'P7', 'P9', 'PO7', 'PO3', 'O1', 'Iz', 'Oz', 'POz',\n",
       "       'Pz', 'CPz', 'Fpz', 'Fp2', 'AF8', 'AF4', 'AFz', 'Fz', 'F2', 'F4',\n",
       "       'F6', 'F8', 'FT8', 'FC6', 'FC4', 'FC2', 'FCz', 'Cz', 'C2', 'C4',\n",
       "       'C6', 'T8', 'TP8', 'CP6', 'CP4', 'CP2', 'P2', 'P4', 'P6', 'P8',\n",
       "       'P10', 'PO8', 'PO4', 'O2'], dtype='<U3')"
      ]
     },
     "execution_count": 18,
     "metadata": {},
     "output_type": "execute_result"
    }
   ],
   "source": [
    "channels = rawFiltered[0].info[\"ch_names\"]\n",
    "np.array(channels)"
   ]
  },
  {
   "cell_type": "code",
   "execution_count": 19,
   "metadata": {},
   "outputs": [
    {
     "data": {
      "image/png": "[encoded data removed]",
      "text/plain": [
       "<PIL.PngImagePlugin.PngImageFile image mode=P size=388x388>"
      ]
     },
     "execution_count": 19,
     "metadata": {},
     "output_type": "execute_result"
    }
   ],
   "source": [
    "# Electrode placement\n",
    "\n",
    "img_path = \"../images/brain_electrodes.png\"\n",
    "from PIL import Image\n",
    "Image.open(img_path)"
   ]
  },
  {
   "cell_type": "markdown",
   "metadata": {},
   "source": [
    "# Epoch Parameters "
   ]
  },
  {
   "cell_type": "code",
   "execution_count": 20,
   "metadata": {},
   "outputs": [],
   "source": [
    "# Generate continuous data (e.g., a sine wave for simplicity)\n",
    "fs = 256  # Sampling frequency in Hz\n",
    "duration = 600  # Duration in seconds\n",
    "# Define epoch parameters\n",
    "epoch_length = 5  # in seconds\n",
    "events = np.array([[i * epoch_length * fs, 0, 1] for i in range(duration // epoch_length)])\n",
    "event_id = 1\n",
    "tmin, tmax = 0, epoch_length  # Epoch start and end times\n",
    "\n",
    "# Define Morlet wavelet parameters\n",
    "frequencies = np.arange(8, 30, 1)  # Frequencies of interest from 1 to 50 Hz\n",
    "n_cycles = frequencies / 2.  # Number of cycles in Morlet wavelet"
   ]
  },
  {
   "cell_type": "code",
   "execution_count": 21,
   "metadata": {},
   "outputs": [
    {
     "name": "stdout",
     "output_type": "stream",
     "text": [
      "Not setting metadata\n",
      "120 matching events found\n",
      "No baseline correction applied\n",
      "0 projection items activated\n",
      "Using data from preloaded Raw for 120 events and 1281 original time points ...\n",
      "1 bad epochs dropped\n"
     ]
    }
   ],
   "source": [
    "epoch = mne.Epochs(rawFiltered[0], events, event_id, tmin, tmax, baseline=None, preload=True)"
   ]
  },
  {
   "cell_type": "markdown",
   "metadata": {},
   "source": [
    "# Method-1 : Averaging the signal "
   ]
  },
  {
   "cell_type": "code",
   "execution_count": 22,
   "metadata": {},
   "outputs": [],
   "source": [
    "# %%capture\n",
    "# powerD = []\n",
    "# itcD = []\n",
    "# phaseD = []\n",
    "# for j in range(16):\n",
    "#     # creating epochs\n",
    "#     epochs = mne.Epochs(rawFiltered[j], events, event_id, tmin, tmax, baseline=None, preload=True)\n",
    "#     # Compute power and phase\n",
    "#     power,itc = mne.time_frequency.tfr_morlet(epochs, freqs=frequencies, n_cycles=n_cycles, use_fft=True, output='power',return_itc=True, n_jobs=20)\n",
    "#     # complex_signal = mne.time_frequency.tfr_array_morlet(epochs, sfreq=fs, freqs=frequencies, n_cycles=n_cycles,use_fft=True, output='complex', n_jobs=20)\n",
    "#     # phase = np.angle(complex_signal)   \n",
    "#     powerD.append(power)\n",
    "#     itcD.append(itc)\n",
    "#     # phaseD.append(phase)"
   ]
  },
  {
   "cell_type": "markdown",
   "metadata": {},
   "source": [
    "# Method-2 : Averaging over different Subjects"
   ]
  },
  {
   "cell_type": "markdown",
   "metadata": {},
   "source": [
    "### Creating Epochs"
   ]
  },
  {
   "cell_type": "code",
   "execution_count": 23,
   "metadata": {},
   "outputs": [],
   "source": [
    "%%capture\n",
    "epochsList = []\n",
    "for i in range(40):\n",
    "    epochs = mne.Epochs(rawFiltered[i], events, event_id, tmin, tmax, baseline=None, preload=True)\n",
    "    epochsList.append(epochs)"
   ]
  },
  {
   "cell_type": "markdown",
   "metadata": {},
   "source": [
    "### Creating Trials"
   ]
  },
  {
   "cell_type": "code",
   "execution_count": 24,
   "metadata": {},
   "outputs": [],
   "source": [
    "%%capture\n",
    "trialsListHTR,trialsListCTR,trialsListVIP,trialsListSNY = [],[],[],[]\n",
    "for i in range(119):\n",
    "    trials = [[] for _ in range(4)]\n",
    "    for j in range(10):\n",
    "        epoch0 = epochsList[j][i]\n",
    "        trials[0].append(epoch0)\n",
    "        epoch1 = epochsList[j+10][i]\n",
    "        trials[1].append(epoch1)\n",
    "        epoch2 = epochsList[j+20][i]\n",
    "        trials[2].append(epoch2)\n",
    "        epoch3 = epochsList[j+30][i]\n",
    "        trials[3].append(epoch3)\n",
    "    trialsListHTR.append(trials[0])\n",
    "    trialsListCTR.append(trials[1])\n",
    "    trialsListVIP.append(trials[2])\n",
    "    trialsListSNY.append(trials[3])"
   ]
  },
  {
   "cell_type": "code",
   "execution_count": 25,
   "metadata": {},
   "outputs": [],
   "source": [
    "%%capture\n",
    "combinedEpochsHTR,combinedEpochsCTR,combinedEpochsVIP,combinedEpochsSNY = [],[],[],[]\n",
    "for i in range(119):\n",
    "    # Converting into Epoch object\n",
    "    combinedEpochsHTR.append(mne.concatenate_epochs(trialsListHTR[i]))\n",
    "    combinedEpochsCTR.append(mne.concatenate_epochs(trialsListCTR[i]))\n",
    "    combinedEpochsVIP.append(mne.concatenate_epochs(trialsListVIP[i]))\n",
    "    combinedEpochsSNY.append(mne.concatenate_epochs(trialsListSNY[i]))"
   ]
  },
  {
   "cell_type": "code",
   "execution_count": 26,
   "metadata": {},
   "outputs": [
    {
     "name": "stdout",
     "output_type": "stream",
     "text": [
      "119\n"
     ]
    },
    {
     "data": {
      "text/html": [
       "<table class=\"table table-hover table-striped table-sm table-responsive small\">\n",
       "    <tr>\n",
       "        <th>Number of events</th>\n",
       "        <td>10</td>\n",
       "    </tr>\n",
       "    <tr>\n",
       "        <th>Events</th>\n",
       "        \n",
       "        <td>1: 10</td>\n",
       "        \n",
       "    </tr>\n",
       "    <tr>\n",
       "        <th>Time range</th>\n",
       "        <td>0.000 – 5.000 s</td>\n",
       "    </tr>\n",
       "    <tr>\n",
       "        <th>Baseline</th>\n",
       "        <td>off</td>\n",
       "    </tr>\n",
       "</table>"
      ],
      "text/plain": [
       "<EpochsArray |  10 events (all good), 0 – 5 s, baseline off, ~6.3 MB, data loaded,\n",
       " '1': 10>"
      ]
     },
     "execution_count": 26,
     "metadata": {},
     "output_type": "execute_result"
    }
   ],
   "source": [
    "print(len(combinedEpochsHTR))\n",
    "combinedEpochsHTR[0]"
   ]
  },
  {
   "cell_type": "code",
   "execution_count": null,
   "metadata": {},
   "outputs": [],
   "source": [
    "powerD = [[] for _ in range(4)]"
   ]
  },
  {
   "cell_type": "code",
   "execution_count": 27,
   "metadata": {},
   "outputs": [],
   "source": [
    "%%capture\n",
    "itcDHTR = []\n",
    "for i in range(119):\n",
    "    _, itc = tfr_morlet(combinedEpochsHTR[i], freqs=frequencies, n_cycles=n_cycles, use_fft=True,output='power',return_itc=True, n_jobs=-1) \n",
    "    itcDHTR.append(itc)"
   ]
  },
  {
   "cell_type": "code",
   "execution_count": 28,
   "metadata": {},
   "outputs": [],
   "source": [
    "%%capture\n",
    "itcDCTR = []\n",
    "for i in range(119):\n",
    "    _, itc = tfr_morlet(combinedEpochsCTR[i], freqs=frequencies, n_cycles=n_cycles, use_fft=True,output='power',return_itc=True, n_jobs=-1) \n",
    "    itcDCTR.append(itc)"
   ]
  },
  {
   "cell_type": "code",
   "execution_count": 29,
   "metadata": {},
   "outputs": [],
   "source": [
    "%%capture\n",
    "itcDVIP = []\n",
    "for i in range(119):\n",
    "    _, itc = tfr_morlet(combinedEpochsVIP[i], freqs=frequencies, n_cycles=n_cycles, use_fft=True,output='power',return_itc=True, n_jobs=-1) \n",
    "    itcDVIP.append(itc)"
   ]
  },
  {
   "cell_type": "code",
   "execution_count": 33,
   "metadata": {},
   "outputs": [],
   "source": [
    "%%capture\n",
    "itcDSNY = []\n",
    "for i in range(119):\n",
    "    _, itc = tfr_morlet(combinedEpochsSNY[i], freqs=frequencies, n_cycles=n_cycles, use_fft=True,output='power',return_itc=True, n_jobs=-1) \n",
    "    itcDSNY.append(itc)"
   ]
  },
  {
   "cell_type": "code",
   "execution_count": 31,
   "metadata": {},
   "outputs": [
    {
     "data": {
      "text/plain": [
       "numpy.ndarray"
      ]
     },
     "execution_count": 31,
     "metadata": {},
     "output_type": "execute_result"
    }
   ],
   "source": [
    "type(itcDSNY[0].data)"
   ]
  },
  {
   "cell_type": "code",
   "execution_count": 1,
   "metadata": {},
   "outputs": [],
   "source": [
    "from smallScripts.distance_matrix import get_plv_dm "
   ]
  },
  {
   "cell_type": "code",
   "execution_count": 2,
   "metadata": {},
   "outputs": [
    {
     "ename": "NameError",
     "evalue": "name 'itcDHTR' is not defined",
     "output_type": "error",
     "traceback": [
      "\u001b[0;31m---------------------------------------------------------------------------\u001b[0m",
      "\u001b[0;31mNameError\u001b[0m                                 Traceback (most recent call last)",
      "Cell \u001b[0;32mIn[2], line 1\u001b[0m\n\u001b[0;32m----> 1\u001b[0m itcData \u001b[38;5;241m=\u001b[39m [\u001b[43mitcDHTR\u001b[49m,itcDCTR,itcDVIP,itcDSNY]\n\u001b[1;32m      2\u001b[0m dm \u001b[38;5;241m=\u001b[39m get_plv_dm(itcD\u001b[38;5;241m=\u001b[39mitcData)\n",
      "\u001b[0;31mNameError\u001b[0m: name 'itcDHTR' is not defined"
     ]
    }
   ],
   "source": [
    "itcData = [itcDHTR,itcDCTR,itcDVIP,itcDSNY]\n",
    "dm = get_plv_dm(itcD=itcData)"
   ]
  },
  {
   "cell_type": "code",
   "execution_count": 44,
   "metadata": {},
   "outputs": [],
   "source": [
    "# channelsOfInterest = ['Fp1','Fp2','Fz', 'P1', 'P2', 'Pz']\n",
    "# # Select a specific channel and time-frequency data for plotting\n",
    "# for i in range(6):\n",
    "#     channel_name = channelsOfInterest[i]\n",
    "#     channel_index = epoch.ch_names.index(channel_name)\n",
    "#     power_data = powerD2[0].data[channel_index] # Select the channel\n",
    "#     # phase_data = phaseD[0][0, channel_index, :, :]\n",
    "#     itc_data = itcD2[0].data[channel_index]\n",
    "\n",
    "#     fig, (ax1, ax2) = plt.subplots(1, 2, figsize=(30, 10))\n",
    "\n",
    "#     # Plot the power data\n",
    "#     im1 = ax1.imshow(power_data, aspect='auto', origin='lower',\n",
    "#                      extent=[epoch[0].times[0], epoch[0].times[-1], frequencies[0], frequencies[-1]],\n",
    "#                      cmap='RdBu_r')\n",
    "#     fig.colorbar(im1, ax=ax1, label='Power')\n",
    "#     ax1.set_xlabel('Time (s)')\n",
    "#     ax1.set_ylabel('Frequency (Hz)')\n",
    "#     ax1.set_title(f'Time-Frequency Representation for Channel {channel_name} Power')\n",
    "\n",
    "#     # Plot the ITC data\n",
    "#     im2 = ax2.imshow(itc_data, aspect='auto', origin='lower',\n",
    "#                      extent=[epoch[0].times[0], epoch[0].times[-1], frequencies[0], frequencies[-1]],\n",
    "#                      cmap='viridis')\n",
    "#     fig.colorbar(im2, ax=ax2, label='ITC')\n",
    "#     ax2.set_xlabel('Time (s)')\n",
    "#     ax2.set_ylabel('Frequency (Hz)')\n",
    "#     ax2.set_title('Time-Frequency Representation for Channel {channel_name} Phase')\n",
    "\n",
    "#     plt.tight_layout()\n",
    "#     plt.show()"
   ]
  },
  {
   "cell_type": "code",
   "execution_count": 1,
   "metadata": {},
   "outputs": [],
   "source": [
    "# # itcD is data array\n",
    "# data = itcDHTR[100].data  # Shape: (64, 22, 2561)\n",
    "\n",
    "# # Reshape data to (electrodes, features) where features are frequency-time combinations\n",
    "# reshaped_data = data.reshape(data.shape[0], -1)\n",
    "\n",
    "# # Compute the correlation matrix\n",
    "# correlation_matrix = np.corrcoef(reshaped_data)\n",
    "\n",
    "# # Define electrode names\n",
    "# channel_names = ['Fp1', 'AF7', 'AF3', 'F1', 'F3', 'F5', 'F7', 'FT7', 'FC5', 'FC3', 'FC1', 'C1', 'C3', 'C5', 'T7', 'TP7', 'CP5', 'CP3', 'CP1', 'P1', 'P3', 'P5', 'P7', 'P9', 'PO7', 'PO3', 'O1', 'Iz', 'Oz', 'POz', 'Pz', 'CPz', 'Fpz', 'Fp2', 'AF8', 'AF4', 'AFz', 'Fz', 'F2', 'F4', 'F6', 'F8', 'FT8', 'FC6', 'FC4', 'FC2', 'FCz', 'Cz', 'C2', 'C4', 'C6', 'T8', 'TP8', 'CP6', 'CP4', 'CP2', 'P2', 'P4', 'P6', 'P8', 'P10', 'PO8', 'PO4', 'O2']\n",
    "\n",
    "# # Plot the correlation matrix with electrode names\n",
    "# plt.figure(figsize=(30, 20))\n",
    "# plt.imshow(correlation_matrix, cmap='coolwarm', interpolation='none')\n",
    "# plt.colorbar()\n",
    "# plt.title('Electrode Phase Correlation Matrix')\n",
    "# plt.xticks(np.arange(len(channel_names)), channel_names, rotation=90)\n",
    "# plt.yticks(np.arange(len(channel_names)), channel_names)\n",
    "# plt.xlabel('Electrodes')\n",
    "# plt.ylabel('Electrodes')\n",
    "# plt.show()\n"
   ]
  },
  {
   "cell_type": "code",
   "execution_count": 29,
   "metadata": {},
   "outputs": [],
   "source": [
    "dm = [[] for _ in range(4)]\n",
    "for i in range(119):\n",
    "    data1 = itcDHTR[i].data  # Shape: (64, 22, 2561)\n",
    "    data2 = itcDCTR[i].data\n",
    "    data3 = itcDVIP[i].data\n",
    "    data4 = itcDSNY[i].data\n",
    "\n",
    "    # Reshape data to (electrodes, features) where features are frequency-time combinations\n",
    "    reshaped_data1 = data1.reshape(data1.shape[0], -1)\n",
    "    reshaped_data2 = data2.reshape(data2.shape[0], -1)\n",
    "    reshaped_data3 = data3.reshape(data3.shape[0], -1)\n",
    "    reshaped_data4 = data4.reshape(data4.shape[0], -1)\n",
    "\n",
    "    # Compute the correlation matrix\n",
    "    correlation_matrix1 = np.corrcoef(reshaped_data1)\n",
    "    correlation_matrix2 = np.corrcoef(reshaped_data2)\n",
    "    correlation_matrix3 = np.corrcoef(reshaped_data3)\n",
    "    correlation_matrix4 = np.corrcoef(reshaped_data4)\n",
    "    \n",
    "    dm[0].append(1-correlation_matrix1)\n",
    "    dm[1].append(1-correlation_matrix2)\n",
    "    dm[2].append(1-correlation_matrix3)\n",
    "    dm[3].append(1-correlation_matrix4)"
   ]
  },
  {
   "cell_type": "code",
   "execution_count": 58,
   "metadata": {},
   "outputs": [
    {
     "data": {
      "text/plain": [
       "119"
      ]
     },
     "execution_count": 58,
     "metadata": {},
     "output_type": "execute_result"
    }
   ],
   "source": [
    "len(dm[0])"
   ]
  },
  {
   "cell_type": "code",
   "execution_count": 35,
   "metadata": {},
   "outputs": [],
   "source": [
    "paths = ['./data/Distance-Matrix/think2/HTR/','./data/Distance-Matrix/think2/CTR/','./data/Distance-Matrix/think2/VIP/','./data/Distance-Matrix/think2/SNY/']\n",
    "for i,path in enumerate(paths):\n",
    "    for j in range(119):\n",
    "        pd.DataFrame(dm[i][j]).to_csv(path + f'DmEpoch{j}.csv',index=False)"
   ]
  },
  {
   "cell_type": "code",
   "execution_count": 39,
   "metadata": {},
   "outputs": [],
   "source": [
    "# paths = ['./data/Distance-Matrix/think2/HTR/','./data/Distance-Matrix/think2/CTR/','./data/Distance-Matrix/think2/VIP/','./data/Distance-Matrix/think2/SNY/']\n",
    "# for i,path in enumerate(paths):\n",
    "#     paths[i] = pathlib.Path(path)\n",
    "# # read distance matrices\n",
    "# distance_matricesHTR,distance_matricesCTR,distance_matricesVIP,distance_matricesSNY = [],[],[],[]\n",
    "# for i in range(4):\n",
    "#     files = list(paths[i].glob('*.csv'))\n",
    "#     for j in range(119):\n",
    "#         files[j] = str(files[j])\n",
    "#     if(i==0):\n",
    "#         distance_matricesHTRf=files\n",
    "#     elif(i==1):\n",
    "#         distance_matricesCTRf=files\n",
    "#     elif(i==2):\n",
    "#         distance_matricesVIPf=files\n",
    "#     else:\n",
    "#         distance_matricesSNYf=files\n",
    "\n",
    "# import re\n",
    "# # Function to extract the number from the string\n",
    "# def extract_number(s):\n",
    "#     match = re.search(r'DmEpoch(\\d+)\\.csv', s)\n",
    "#     return int(match.group(1))  # Handle cases where there is no number\n",
    "\n",
    "# # Sort the list using the custom key\n",
    "# distance_matricesHTRf = sorted(distance_matricesHTRf, key=extract_number)\n",
    "# distance_matricesCTRf = sorted(distance_matricesCTRf, key=extract_number)\n",
    "# distance_matricesVIPf = sorted(distance_matricesVIPf, key=extract_number)\n",
    "# distance_matricesSNYf = sorted(distance_matricesSNYf, key=extract_number)\n",
    "\n",
    "# dmf = [distance_matricesHTRf,distance_matricesCTRf,distance_matricesVIPf,distance_matricesSNYf]\n",
    "\n",
    "# for i,files in enumerate(dmf):\n",
    "#     df119 = []\n",
    "#     for file in files:\n",
    "#         df = pd.read_csv(file).to_numpy()\n",
    "#         df119.append(df)\n",
    "#     if(i==0):\n",
    "#         distance_matricesHTR = df119\n",
    "#     elif(i==1):\n",
    "#         distance_matricesCTR = df119\n",
    "#     elif(i==2):\n",
    "#         distance_matricesVIP = df119\n",
    "#     else:\n",
    "#         distance_matricesSNY = df119\n",
    "\n",
    "# dm = [distance_matricesHTR,distance_matricesCTR,distance_matricesVIP,distance_matricesSNY]"
   ]
  },
  {
   "cell_type": "code",
   "execution_count": 40,
   "metadata": {},
   "outputs": [
    {
     "name": "stdout",
     "output_type": "stream",
     "text": [
      "4 119 (64, 64)\n"
     ]
    }
   ],
   "source": [
    "print(len(dm), len(dm[0]), dm[0][0].shape)"
   ]
  },
  {
   "cell_type": "markdown",
   "metadata": {},
   "source": [
    "# TDA"
   ]
  },
  {
   "cell_type": "code",
   "execution_count": 41,
   "metadata": {},
   "outputs": [],
   "source": [
    "import gudhi as gd\n",
    "PERSISTENCES = [[] for _ in range(4)]\n",
    "for k in range(4):\n",
    "    for i in range(119):\n",
    "        # Convert the distance matrix to a format that Gudhi can use\n",
    "        rips_complex = gd.RipsComplex(distance_matrix=dm[k][i], max_edge_length=1)\n",
    "        simplex_tree = rips_complex.create_simplex_tree(max_dimension=2)\n",
    "        # Compute the persistence diagram\n",
    "        persistence = simplex_tree.persistence()\n",
    "        PERSISTENCES[k].append(persistence)"
   ]
  },
  {
   "cell_type": "code",
   "execution_count": 42,
   "metadata": {},
   "outputs": [
    {
     "name": "stdout",
     "output_type": "stream",
     "text": [
      "4 119\n"
     ]
    }
   ],
   "source": [
    "print(len(PERSISTENCES), len(PERSISTENCES[0]))"
   ]
  },
  {
   "cell_type": "code",
   "execution_count": 43,
   "metadata": {},
   "outputs": [],
   "source": [
    "from collections import defaultdict\n",
    "radii = np.linspace(0, 1, 100)\n",
    "def get_betti_numbers(persistence, max_dim=2):\n",
    "    betti_numbers = defaultdict(list)\n",
    "    for radius in radii:\n",
    "        counts = [0] * (max_dim + 1)\n",
    "        for interval in persistence:\n",
    "            dim = interval[0]\n",
    "            birth, death = interval[1]\n",
    "            if birth <= radius < death:\n",
    "                counts[dim] += 1\n",
    "        for dim in range(max_dim + 1):\n",
    "            betti_numbers[dim].append(counts[dim])\n",
    "    return betti_numbers\n",
    "\n",
    "BETTI = [[] for _ in range(4)]\n",
    "for k in range(4):\n",
    "    for i in range(119):\n",
    "        betti_numbers = get_betti_numbers(PERSISTENCES[k][i])\n",
    "        BETTI[k].append(betti_numbers)"
   ]
  },
  {
   "cell_type": "code",
   "execution_count": 44,
   "metadata": {},
   "outputs": [
    {
     "data": {
      "text/plain": [
       "119"
      ]
     },
     "execution_count": 44,
     "metadata": {},
     "output_type": "execute_result"
    }
   ],
   "source": [
    "len(BETTI[3])"
   ]
  },
  {
   "cell_type": "code",
   "execution_count": 45,
   "metadata": {},
   "outputs": [],
   "source": [
    "# Calculate the area under the curve using the trapezoidal rule\n",
    "areaHTR,areaCTR,areaVIP,areaSNY = [],[],[],[]\n",
    "for i in range(119):\n",
    "    area1 = np.trapz(BETTI[0][i][0], radii)\n",
    "    area2 = np.trapz(BETTI[1][i][0], radii)\n",
    "    area3 = np.trapz(BETTI[2][i][0], radii)\n",
    "    area4 = np.trapz(BETTI[3][i][0], radii)\n",
    "    areaHTR.append(area1)\n",
    "    areaCTR.append(area2)\n",
    "    areaVIP.append(area3)\n",
    "    areaSNY.append(area4)"
   ]
  },
  {
   "cell_type": "code",
   "execution_count": 46,
   "metadata": {},
   "outputs": [],
   "source": [
    "total_area = [areaHTR, areaCTR, areaVIP, areaSNY]"
   ]
  },
  {
   "cell_type": "code",
   "execution_count": 47,
   "metadata": {},
   "outputs": [],
   "source": [
    "radii5percent = [[] for _ in range(4)]\n",
    "betti5percent = [[] for _ in range(4)]\n",
    "for k in range(4):\n",
    "    for j in range(119):\n",
    "        for i in range(len(radii)):\n",
    "            area = np.trapz(BETTI[k][j][0][:i],radii[:i])\n",
    "            if (area >= 0.95*total_area[k][j]):\n",
    "                radii5percent[k].append(radii[i])\n",
    "                betti5percent[k].append(BETTI[k][j][0][i])\n",
    "                break"
   ]
  },
  {
   "cell_type": "code",
   "execution_count": 48,
   "metadata": {},
   "outputs": [],
   "source": [
    "DFs = [pd.DataFrame() for _ in range(4)]\n",
    "\n",
    "for i in range(4):\n",
    "    DFs[i]['area'] = total_area[i]\n",
    "    DFs[i]['radii5'] = radii5percent[i]\n",
    "    DFs[i]['betti5'] = betti5percent[i]"
   ]
  },
  {
   "cell_type": "code",
   "execution_count": 49,
   "metadata": {},
   "outputs": [],
   "source": [
    "DFs[0].to_csv('./data/Topographical-features/think2/dfHTR.csv', index=False)\n",
    "DFs[1].to_csv('./data/Topographical-features/think2/dfCTR.csv', index=False)\n",
    "DFs[2].to_csv('./data/Topographical-features/think2/dfVIP.csv', index=False)\n",
    "DFs[3].to_csv('./data/Topographical-features/think2/dfSNY.csv', index=False)"
   ]
  }
 ],
 "metadata": {
  "kernelspec": {
   "display_name": "Python 3",
   "language": "python",
   "name": "python3"
  },
  "language_info": {
   "codemirror_mode": {
    "name": "ipython",
    "version": 3
   },
   "file_extension": ".py",
   "mimetype": "text/x-python",
   "name": "python",
   "nbconvert_exporter": "python",
   "pygments_lexer": "ipython3",
   "version": "3.12.2"
  }
 },
 "nbformat": 4,
 "nbformat_minor": 2
}
