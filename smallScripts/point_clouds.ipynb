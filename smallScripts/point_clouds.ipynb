{
 "cells": [
  {
   "cell_type": "code",
   "execution_count": 1,
   "metadata": {},
   "outputs": [],
   "source": [
    "# import libraries\n",
    "import mne\n",
    "import pathlib\n",
    "import pandas as pd\n",
    "import numpy as np\n",
    "import matplotlib.pyplot as plt\n",
    "\n",
    "from mne.time_frequency import tfr_morlet, tfr_array_morlet\n",
    "from gtda.homology import VietorisRipsPersistence\n",
    "from gtda.diagrams import BettiCurve, PersistenceEntropy, Amplitude\n",
    "\n",
    "import argparse\n",
    "\n",
    "# Define parameters\n",
    "epoch_length = 5  # in seconds\n",
    "overlap = 4  # in seconds (1 ms)\n",
    "# time between the start of consecutive epochs\n",
    "event_interval = epoch_length - overlap\n",
    "# Generate fake events\n",
    "sfreq = 256  # sampling frequency\n",
    "event_duration = int(sfreq * epoch_length)  # number of samples in an epoch\n",
    "# number of samples between consecutive events\n",
    "event_step = int(sfreq * event_interval)\n",
    "n_events = int((153344 - event_duration) / event_step) + 1\n",
    "events = np.array([[int(i * event_step), 0, 1] for i in range(n_events)])\n",
    "frequencies = np.arange(8, 30, 1)  # Frequencies of interest from 8 to 30 Hz\n",
    "n_cycles = frequencies / 2.  # Number of cycles in Morlet wavelet\n",
    "groupName = ['HTR','CTR','VIP','SNY']\n",
    "groups = ['0','1','2','3']"
   ]
  },
  {
   "cell_type": "code",
   "execution_count": 2,
   "metadata": {},
   "outputs": [],
   "source": [
    "def compute_tda(types,group_idx,file_idx):\n",
    "    data_dir = pathlib.Path(f\"./data/raw/{types}/\")\n",
    "    rawPath = []\n",
    "    files = list(data_dir.glob(f\"*{groups[group_idx]}_raw.fif\"))\n",
    "    rawPath = sorted(files)\n",
    "    rawPath = rawPath[file_idx-1:file_idx]\n",
    "        # create epochs\n",
    "    epochList = []\n",
    "    for path in rawPath:\n",
    "        raw = mne.io.read_raw_fif(path, preload=True)\n",
    "        epochs = mne.Epochs(raw, events, event_id=1, tmin=0,\n",
    "                                tmax=epoch_length, baseline=None, preload=True)\n",
    "        epochList.append(epochs)\n",
    "        # get complex signals\n",
    "    times = epochList[0][0].get_data().shape[2]\n",
    "    num_epochs = len(epochList[0])\n",
    "    # Precompute the TFR parameters to avoid recalculating them in each iteration\n",
    "    data = epochList[0].get_data()\n",
    "            # Precompute the TFR parameters to avoid recalculating them in each iteration\n",
    "    tfr_params = {\n",
    "                'sfreq': 256,\n",
    "                'freqs': frequencies,\n",
    "                'n_cycles': n_cycles,\n",
    "                'use_fft': True,\n",
    "                'output': 'complex',\n",
    "                'n_jobs': 20\n",
    "    }\n",
    "            # Compute complex signals for all time points at once using TFR\n",
    "    complex_signal = mne.time_frequency.tfr_array_morlet(\n",
    "                # Add a new axis to match expected input shape (1, n_channels, n_times)\n",
    "                data,\n",
    "                **tfr_params\n",
    "    )\n",
    "    # calculate plv\n",
    "    powers = np.zeros((num_epochs, len(frequencies), 64, 64), dtype=np.float64)\n",
    "    phases = np.zeros((num_epochs, len(frequencies), 64, 64), dtype=np.float64)\n",
    "    for epoch_idx in range(num_epochs):\n",
    "        for freq_idx in range(len(frequencies)):\n",
    "            phaseEpoch = np.angle(complex_signal[epoch_idx, :, freq_idx, :])\n",
    "            powerEpoch = np.abs(complex_signal[epoch_idx, :, freq_idx, :])\n",
    "            phaseCorr = 1 - np.corrcoef(phaseEpoch)\n",
    "            powerCorr = 1 - np.corrcoef(powerEpoch)\n",
    "            phases[epoch_idx, freq_idx] = phaseCorr\n",
    "            powers[epoch_idx, freq_idx] = powerCorr\n",
    "    ############################################################################################\n",
    "        # Topological data analysis\n",
    "#         Power\n",
    "#     persistentEntropyPower = np.zeros(\n",
    "#             (2, num_epochs, len(frequencies)), dtype=np.float64)\n",
    "#     amplitudePower = np.zeros(\n",
    "#             (2, num_epochs, len(frequencies)), dtype=np.float64)\n",
    "#     bettiAreaPower = np.zeros(\n",
    "#             (2, num_epochs, len(frequencies)), dtype=np.float64)\n",
    "#         # Phase\n",
    "#     persistentEntropyPhase = np.zeros(\n",
    "#             (2, num_epochs, len(frequencies)), dtype=np.float64)\n",
    "#     amplitudePhase = np.zeros(\n",
    "#             (2, num_epochs, len(frequencies)), dtype=np.float64)\n",
    "#     bettiAreaPhase = np.zeros(\n",
    "#             (2, num_epochs, len(frequencies)), dtype=np.float64)\n",
    "#     power_point_cloud = []\n",
    "    for epoch_idx in range(1):\n",
    "        for freq_idx, freq in enumerate(frequencies):\n",
    "                    # Initialize Vietoris-Rips complex\n",
    "            vr = VietorisRipsPersistence(homology_dimensions=[0, 1, 2])\n",
    "                    # Ensure powers is correctly structured\n",
    "            data1 = powers[epoch_idx][freq_idx]\n",
    "            data2 = phases[epoch_idx][freq_idx]\n",
    "                    # Fit and transform the data\n",
    "            diagramsPower = vr.fit_transform([data1])\n",
    "            diagramsPhase = vr.fit_transform([data2])\n",
    "            return diagramsPhase\n",
    "#     return diagramsPhase\n",
    "                    # Initialize BettiCurve, PersistenceEntropy, and Amplitude\n",
    "        #     betti = BettiCurve()\n",
    "        #     pEntropy = PersistenceEntropy()\n",
    "        #     ampObject = Amplitude()\n",
    "        #             ################################################################################### Power\n",
    "        #             # Compute the curves and entropies\n",
    "        #     betti_curves1 = betti.fit_transform(diagramsPower)\n",
    "        #     pee1 = pEntropy.fit_transform(diagramsPower)\n",
    "        #     aa1 = ampObject.fit_transform(diagramsPower)\n",
    "        #             # Calculate the area under Betti curves\n",
    "        #     area = []\n",
    "        #     radii = np.linspace(0, 1, betti_curves1.shape[2])\n",
    "        #     for i in range(2):\n",
    "        #         area.append(np.trapz(betti_curves1[0][i], radii))\n",
    "        #             # Update the power arrays\n",
    "        #     persistentEntropyPower[0,epoch_idx, freq_idx] = pee1[0][0]\n",
    "        #     persistentEntropyPower[1,epoch_idx, freq_idx] = pee1[0][1]\n",
    "        #     amplitudePower[0, epoch_idx, freq_idx] = aa1[0][0]\n",
    "        #     amplitudePower[1, epoch_idx, freq_idx] = aa1[0][1]\n",
    "        #     bettiAreaPower[0, epoch_idx, freq_idx] = area[0]\n",
    "        #     bettiAreaPower[1, epoch_idx, freq_idx] = area[1]\n",
    "        #             ################################################################################### Phase\n",
    "        #             # Compute the curves and entropies\n",
    "        #     betti_curves = betti.fit_transform(diagramsPhase)\n",
    "        #     pee2 = pEntropy.fit_transform(diagramsPhase)\n",
    "        #     aa2 = ampObject.fit_transform(diagramsPhase)\n",
    "                    # Calculate the area under Betti curves\n",
    "#             area = []\n",
    "#             radii = np.linspace(0, 1, betti_curves.shape[2])\n",
    "#             for i in range(2):\n",
    "#                 area.append(np.trapz(betti_curves[0][i], radii))\n",
    "#                     # Update the power arrays\n",
    "#             persistentEntropyPhase[0,epoch_idx, freq_idx] = pee2[0][0]\n",
    "#             persistentEntropyPhase[1,epoch_idx, freq_idx] = pee2[0][1]\n",
    "#             amplitudePhase[0, epoch_idx, freq_idx] = aa2[0][0]\n",
    "#             amplitudePhase[1, epoch_idx, freq_idx] = aa2[0][1]\n",
    "#             bettiAreaPhase[0, epoch_idx, freq_idx] = area[0]\n",
    "#             bettiAreaPhase[1, epoch_idx, freq_idx] = area[1]\n",
    "\n",
    "#     df1 = pd.DataFrame(persistentEntropyPhase[0])\n",
    "#     df2 = pd.DataFrame(persistentEntropyPhase[1])\n",
    "#     df3 = pd.DataFrame(amplitudePhase[0])\n",
    "#     df4 = pd.DataFrame(amplitudePhase[1])\n",
    "#     df5 = pd.DataFrame(bettiAreaPhase[0])\n",
    "#     df6 = pd.DataFrame(bettiAreaPhase[1])\n",
    "#     df7 = pd.DataFrame(persistentEntropyPower[0])\n",
    "#     df8 = pd.DataFrame(persistentEntropyPower[1])\n",
    "#     df9 = pd.DataFrame(amplitudePower[0])\n",
    "#     df10 = pd.DataFrame(amplitudePower[1])\n",
    "#     df11 = pd.DataFrame(bettiAreaPower[0])\n",
    "#     df12 = pd.DataFrame(bettiAreaPower[1])\n",
    "#     subject = pd.concat([df1,df2,df3,df4,df5,df6,df7,df8,df9,df10,df11,df12], axis=0)\n",
    "#     subject.to_csv(f\"./data/48plots/pearsonCorr/features/{types}_group{groupName[group_idx]}-{file_idx}.csv\", index=False)"
   ]
  },
  {
   "cell_type": "code",
   "execution_count": 3,
   "metadata": {},
   "outputs": [
    {
     "name": "stdout",
     "output_type": "stream",
     "text": [
      "Opening raw data file data/raw/think2/file0_0_raw.fif...\n",
      "Isotrak not found\n",
      "    Range : 0 ... 153343 =      0.000 ...   598.996 secs\n",
      "Ready.\n"
     ]
    },
    {
     "name": "stdout",
     "output_type": "stream",
     "text": [
      "Reading 0 ... 153343  =      0.000 ...   598.996 secs...\n",
      "Not setting metadata\n",
      "595 matching events found\n",
      "No baseline correction applied\n",
      "0 projection items activated\n",
      "Using data from preloaded Raw for 595 events and 1281 original time points ...\n",
      "1 bad epochs dropped\n"
     ]
    },
    {
     "name": "stderr",
     "output_type": "stream",
     "text": [
      "/tmp/ipykernel_1309416/1225501496.py:15: FutureWarning: The current default of copy=False will change to copy=True in 1.7. Set the value of copy explicitly to avoid this warning\n",
      "  times = epochList[0][0].get_data().shape[2]\n",
      "/tmp/ipykernel_1309416/1225501496.py:18: FutureWarning: The current default of copy=False will change to copy=True in 1.7. Set the value of copy explicitly to avoid this warning\n",
      "  data = epochList[0].get_data()\n",
      "/tmp/ipykernel_1309416/1225501496.py:29: FutureWarning: The default value of `zero_mean` will change from `False` to `True` in version 1.8. Set the value explicitly to avoid this warning.\n",
      "  complex_signal = mne.time_frequency.tfr_array_morlet(\n",
      "[Parallel(n_jobs=20)]: Using backend LokyBackend with 20 concurrent workers.\n",
      "[Parallel(n_jobs=20)]: Done  58 out of  64 | elapsed:   46.1s remaining:    4.8s\n",
      "[Parallel(n_jobs=20)]: Done  64 out of  64 | elapsed:   49.8s finished\n",
      "/home/server/anaconda3/envs/work/lib/python3.12/site-packages/gtda/homology/simplicial.py:232: DataDimensionalityWarning: All arrays/matrices are square. This is consistent with a collection of distance/adjacency matrices, but the entries will be treated as collections of vectors in Euclidean space.\n",
      "  check_point_clouds(X, accept_sparse=True,\n",
      "/home/server/anaconda3/envs/work/lib/python3.12/site-packages/gtda/homology/simplicial.py:299: DataDimensionalityWarning: All arrays/matrices are square. This is consistent with a collection of distance/adjacency matrices, but the entries will be treated as collections of vectors in Euclidean space.\n",
      "  X = check_point_clouds(X, accept_sparse=True,\n",
      "/home/server/anaconda3/envs/work/lib/python3.12/site-packages/gtda/homology/simplicial.py:232: DataDimensionalityWarning: All arrays/matrices are square. This is consistent with a collection of distance/adjacency matrices, but the entries will be treated as collections of vectors in Euclidean space.\n",
      "  check_point_clouds(X, accept_sparse=True,\n",
      "/home/server/anaconda3/envs/work/lib/python3.12/site-packages/gtda/homology/simplicial.py:299: DataDimensionalityWarning: All arrays/matrices are square. This is consistent with a collection of distance/adjacency matrices, but the entries will be treated as collections of vectors in Euclidean space.\n",
      "  X = check_point_clouds(X, accept_sparse=True,\n"
     ]
    },
    {
     "data": {
      "text/plain": [
       "array([[[0.        , 0.14414196, 0.        ],\n",
       "        [0.        , 0.15077391, 0.        ],\n",
       "        [0.        , 0.15332858, 0.        ],\n",
       "        [0.        , 0.1704753 , 0.        ],\n",
       "        [0.        , 0.17964539, 0.        ],\n",
       "        [0.        , 0.18190424, 0.        ],\n",
       "        [0.        , 0.19743189, 0.        ],\n",
       "        [0.        , 0.22143289, 0.        ],\n",
       "        [0.        , 0.22397912, 0.        ],\n",
       "        [0.        , 0.23658787, 0.        ],\n",
       "        [0.        , 0.23771423, 0.        ],\n",
       "        [0.        , 0.24348968, 0.        ],\n",
       "        [0.        , 0.24741684, 0.        ],\n",
       "        [0.        , 0.25090161, 0.        ],\n",
       "        [0.        , 0.25129035, 0.        ],\n",
       "        [0.        , 0.2567203 , 0.        ],\n",
       "        [0.        , 0.25748494, 0.        ],\n",
       "        [0.        , 0.26217058, 0.        ],\n",
       "        [0.        , 0.27049285, 0.        ],\n",
       "        [0.        , 0.28759217, 0.        ],\n",
       "        [0.        , 0.28784895, 0.        ],\n",
       "        [0.        , 0.29568911, 0.        ],\n",
       "        [0.        , 0.31275737, 0.        ],\n",
       "        [0.        , 0.32764944, 0.        ],\n",
       "        [0.        , 0.33448312, 0.        ],\n",
       "        [0.        , 0.33646169, 0.        ],\n",
       "        [0.        , 0.34847802, 0.        ],\n",
       "        [0.        , 0.39654925, 0.        ],\n",
       "        [0.        , 0.40543243, 0.        ],\n",
       "        [0.        , 0.42592514, 0.        ],\n",
       "        [0.        , 0.43452704, 0.        ],\n",
       "        [0.        , 0.4493838 , 0.        ],\n",
       "        [0.        , 0.45865816, 0.        ],\n",
       "        [0.        , 0.46227223, 0.        ],\n",
       "        [0.        , 0.4838289 , 0.        ],\n",
       "        [0.        , 0.51506495, 0.        ],\n",
       "        [0.        , 0.52363133, 0.        ],\n",
       "        [0.        , 0.55625314, 0.        ],\n",
       "        [0.        , 0.55942249, 0.        ],\n",
       "        [0.        , 0.57282031, 0.        ],\n",
       "        [0.        , 0.59233046, 0.        ],\n",
       "        [0.        , 0.61922675, 0.        ],\n",
       "        [0.        , 0.65030026, 0.        ],\n",
       "        [0.        , 0.70279294, 0.        ],\n",
       "        [0.        , 0.72473711, 0.        ],\n",
       "        [0.        , 0.74716389, 0.        ],\n",
       "        [0.        , 0.7476024 , 0.        ],\n",
       "        [0.        , 0.79574788, 0.        ],\n",
       "        [0.        , 0.83013576, 0.        ],\n",
       "        [0.        , 0.88157219, 0.        ],\n",
       "        [0.        , 0.8897081 , 0.        ],\n",
       "        [0.        , 0.89245796, 0.        ],\n",
       "        [0.        , 0.9376592 , 0.        ],\n",
       "        [0.        , 0.97357893, 0.        ],\n",
       "        [0.        , 1.06067932, 0.        ],\n",
       "        [0.        , 1.18684602, 0.        ],\n",
       "        [0.        , 1.21409011, 0.        ],\n",
       "        [0.        , 1.24921167, 0.        ],\n",
       "        [0.        , 1.33119607, 0.        ],\n",
       "        [0.        , 1.34014988, 0.        ],\n",
       "        [0.        , 1.36802149, 0.        ],\n",
       "        [0.        , 1.557827  , 0.        ],\n",
       "        [0.        , 1.96670258, 0.        ],\n",
       "        [2.25141501, 2.38005304, 1.        ],\n",
       "        [2.19421434, 2.28685045, 1.        ],\n",
       "        [1.61290777, 1.62223589, 1.        ],\n",
       "        [1.50391734, 1.61010706, 1.        ],\n",
       "        [1.12873244, 1.67853582, 1.        ],\n",
       "        [1.08406365, 1.09838152, 1.        ],\n",
       "        [0.63034666, 0.65339625, 1.        ],\n",
       "        [0.62987942, 0.90389246, 1.        ],\n",
       "        [0.60543573, 0.69837976, 1.        ],\n",
       "        [0.36182588, 0.37278715, 1.        ],\n",
       "        [0.36093348, 0.39578852, 1.        ],\n",
       "        [0.35765859, 0.40329617, 1.        ],\n",
       "        [0.27632457, 0.27647737, 1.        ],\n",
       "        [0.26413807, 0.26641881, 1.        ],\n",
       "        [0.2621401 , 0.29581705, 1.        ],\n",
       "        [0.25823927, 0.26641881, 1.        ],\n",
       "        [0.70245355, 0.74027443, 2.        ]]])"
      ]
     },
     "execution_count": 3,
     "metadata": {},
     "output_type": "execute_result"
    }
   ],
   "source": [
    "d = compute_tda(\"think2\", 0,1)\n",
    "d"
   ]
  },
  {
   "cell_type": "code",
   "execution_count": 6,
   "metadata": {},
   "outputs": [
    {
     "data": {
      "application/vnd.plotly.v1+json": {
       "config": {
        "plotlyServerURL": "https://plot.ly"
       },
       "data": [
        {
         "marker": {
          "color": [
           0,
           1,
           2,
           3,
           4,
           5,
           6,
           7,
           8,
           9,
           10,
           11,
           12,
           13,
           14,
           15,
           16,
           17,
           18,
           19,
           20,
           21,
           22,
           23,
           24,
           25,
           26,
           27,
           28,
           29,
           30,
           31,
           32,
           33,
           34,
           35,
           36,
           37,
           38,
           39,
           40,
           41,
           42,
           43,
           44,
           45,
           46,
           47,
           48,
           49,
           50,
           51,
           52,
           53,
           54,
           55,
           56,
           57,
           58,
           59,
           60,
           61,
           62,
           63,
           64,
           65,
           66,
           67,
           68,
           69,
           70,
           71,
           72,
           73,
           74,
           75,
           76,
           77,
           78,
           79
          ],
          "colorscale": [
           [
            0,
            "#440154"
           ],
           [
            0.1111111111111111,
            "#482878"
           ],
           [
            0.2222222222222222,
            "#3e4989"
           ],
           [
            0.3333333333333333,
            "#31688e"
           ],
           [
            0.4444444444444444,
            "#26828e"
           ],
           [
            0.5555555555555556,
            "#1f9e89"
           ],
           [
            0.6666666666666666,
            "#35b779"
           ],
           [
            0.7777777777777778,
            "#6ece58"
           ],
           [
            0.8888888888888888,
            "#b5de2b"
           ],
           [
            1,
            "#fde725"
           ]
          ],
          "opacity": 0.8,
          "size": 4
         },
         "mode": "markers",
         "type": "scatter3d",
         "x": [
          0,
          0,
          0,
          0,
          0,
          0,
          0,
          0,
          0,
          0,
          0,
          0,
          0,
          0,
          0,
          0,
          0,
          0,
          0,
          0,
          0,
          0,
          0,
          0,
          0,
          0,
          0,
          0,
          0,
          0,
          0,
          0,
          0,
          0,
          0,
          0,
          0,
          0,
          0,
          0,
          0,
          0,
          0,
          0,
          0,
          0,
          0,
          0,
          0,
          0,
          0,
          0,
          0,
          0,
          0,
          0,
          0,
          0,
          0,
          0,
          0,
          0,
          0,
          2.2514150142669678,
          2.194214344024658,
          1.6129077672958374,
          1.5039173364639282,
          1.128732442855835,
          1.0840636491775513,
          0.6303466558456421,
          0.6298794150352478,
          0.6054357290267944,
          0.3618258833885193,
          0.36093348264694214,
          0.35765859484672546,
          0.2763245701789856,
          0.2641380727291107,
          0.26214009523391724,
          0.2582392692565918,
          0.7024535536766052
         ],
         "y": [
          0.14414195716381073,
          0.15077391266822815,
          0.15332858264446259,
          0.1704753041267395,
          0.1796453893184662,
          0.18190424144268036,
          0.19743189215660095,
          0.2214328944683075,
          0.22397911548614502,
          0.23658786714076996,
          0.2377142310142517,
          0.24348968267440796,
          0.24741683900356293,
          0.25090160965919495,
          0.25129035115242004,
          0.25672030448913574,
          0.25748494267463684,
          0.26217058300971985,
          0.2704928517341614,
          0.28759217262268066,
          0.28784894943237305,
          0.29568910598754883,
          0.31275737285614014,
          0.32764944434165955,
          0.3344831168651581,
          0.3364616930484772,
          0.3484780192375183,
          0.396549254655838,
          0.40543243288993835,
          0.4259251356124878,
          0.43452703952789307,
          0.44938379526138306,
          0.4586581587791443,
          0.4622722268104553,
          0.48382890224456787,
          0.5150649547576904,
          0.5236313343048096,
          0.5562531352043152,
          0.559422492980957,
          0.5728203058242798,
          0.5923304557800293,
          0.6192267537117004,
          0.6503002643585205,
          0.7027929425239563,
          0.7247371077537537,
          0.7471638917922974,
          0.7476024031639099,
          0.7957478761672974,
          0.8301357626914978,
          0.8815721869468689,
          0.8897081017494202,
          0.8924579620361328,
          0.9376592040061951,
          0.973578929901123,
          1.060679316520691,
          1.1868460178375244,
          1.21409010887146,
          1.2492116689682007,
          1.3311960697174072,
          1.3401498794555664,
          1.3680214881896973,
          1.5578269958496094,
          1.9667025804519653,
          2.3800530433654785,
          2.2868504524230957,
          1.622235894203186,
          1.6101070642471313,
          1.67853581905365,
          1.098381519317627,
          0.6533962488174438,
          0.903892457485199,
          0.6983797550201416,
          0.37278714776039124,
          0.3957885205745697,
          0.40329617261886597,
          0.2764773666858673,
          0.26641881465911865,
          0.2958170473575592,
          0.26641881465911865,
          0.7402744293212891
         ],
         "z": [
          0,
          0,
          0,
          0,
          0,
          0,
          0,
          0,
          0,
          0,
          0,
          0,
          0,
          0,
          0,
          0,
          0,
          0,
          0,
          0,
          0,
          0,
          0,
          0,
          0,
          0,
          0,
          0,
          0,
          0,
          0,
          0,
          0,
          0,
          0,
          0,
          0,
          0,
          0,
          0,
          0,
          0,
          0,
          0,
          0,
          0,
          0,
          0,
          0,
          0,
          0,
          0,
          0,
          0,
          0,
          0,
          0,
          0,
          0,
          0,
          0,
          0,
          0,
          1,
          1,
          1,
          1,
          1,
          1,
          1,
          1,
          1,
          1,
          1,
          1,
          1,
          1,
          1,
          1,
          2
         ]
        }
       ],
       "layout": {
        "scene": {
         "xaxis": {
          "exponentformat": "e",
          "showexponent": "all",
          "title": {
           "text": "0th"
          },
          "type": "linear"
         },
         "yaxis": {
          "exponentformat": "e",
          "showexponent": "all",
          "title": {
           "text": "1st"
          },
          "type": "linear"
         },
         "zaxis": {
          "exponentformat": "e",
          "showexponent": "all",
          "title": {
           "text": "2nd"
          },
          "type": "linear"
         }
        },
        "template": {
         "data": {
          "bar": [
           {
            "error_x": {
             "color": "#2a3f5f"
            },
            "error_y": {
             "color": "#2a3f5f"
            },
            "marker": {
             "line": {
              "color": "#E5ECF6",
              "width": 0.5
             },
             "pattern": {
              "fillmode": "overlay",
              "size": 10,
              "solidity": 0.2
             }
            },
            "type": "bar"
           }
          ],
          "barpolar": [
           {
            "marker": {
             "line": {
              "color": "#E5ECF6",
              "width": 0.5
             },
             "pattern": {
              "fillmode": "overlay",
              "size": 10,
              "solidity": 0.2
             }
            },
            "type": "barpolar"
           }
          ],
          "carpet": [
           {
            "aaxis": {
             "endlinecolor": "#2a3f5f",
             "gridcolor": "white",
             "linecolor": "white",
             "minorgridcolor": "white",
             "startlinecolor": "#2a3f5f"
            },
            "baxis": {
             "endlinecolor": "#2a3f5f",
             "gridcolor": "white",
             "linecolor": "white",
             "minorgridcolor": "white",
             "startlinecolor": "#2a3f5f"
            },
            "type": "carpet"
           }
          ],
          "choropleth": [
           {
            "colorbar": {
             "outlinewidth": 0,
             "ticks": ""
            },
            "type": "choropleth"
           }
          ],
          "contour": [
           {
            "colorbar": {
             "outlinewidth": 0,
             "ticks": ""
            },
            "colorscale": [
             [
              0,
              "#0d0887"
             ],
             [
              0.1111111111111111,
              "#46039f"
             ],
             [
              0.2222222222222222,
              "#7201a8"
             ],
             [
              0.3333333333333333,
              "#9c179e"
             ],
             [
              0.4444444444444444,
              "#bd3786"
             ],
             [
              0.5555555555555556,
              "#d8576b"
             ],
             [
              0.6666666666666666,
              "#ed7953"
             ],
             [
              0.7777777777777778,
              "#fb9f3a"
             ],
             [
              0.8888888888888888,
              "#fdca26"
             ],
             [
              1,
              "#f0f921"
             ]
            ],
            "type": "contour"
           }
          ],
          "contourcarpet": [
           {
            "colorbar": {
             "outlinewidth": 0,
             "ticks": ""
            },
            "type": "contourcarpet"
           }
          ],
          "heatmap": [
           {
            "colorbar": {
             "outlinewidth": 0,
             "ticks": ""
            },
            "colorscale": [
             [
              0,
              "#0d0887"
             ],
             [
              0.1111111111111111,
              "#46039f"
             ],
             [
              0.2222222222222222,
              "#7201a8"
             ],
             [
              0.3333333333333333,
              "#9c179e"
             ],
             [
              0.4444444444444444,
              "#bd3786"
             ],
             [
              0.5555555555555556,
              "#d8576b"
             ],
             [
              0.6666666666666666,
              "#ed7953"
             ],
             [
              0.7777777777777778,
              "#fb9f3a"
             ],
             [
              0.8888888888888888,
              "#fdca26"
             ],
             [
              1,
              "#f0f921"
             ]
            ],
            "type": "heatmap"
           }
          ],
          "heatmapgl": [
           {
            "colorbar": {
             "outlinewidth": 0,
             "ticks": ""
            },
            "colorscale": [
             [
              0,
              "#0d0887"
             ],
             [
              0.1111111111111111,
              "#46039f"
             ],
             [
              0.2222222222222222,
              "#7201a8"
             ],
             [
              0.3333333333333333,
              "#9c179e"
             ],
             [
              0.4444444444444444,
              "#bd3786"
             ],
             [
              0.5555555555555556,
              "#d8576b"
             ],
             [
              0.6666666666666666,
              "#ed7953"
             ],
             [
              0.7777777777777778,
              "#fb9f3a"
             ],
             [
              0.8888888888888888,
              "#fdca26"
             ],
             [
              1,
              "#f0f921"
             ]
            ],
            "type": "heatmapgl"
           }
          ],
          "histogram": [
           {
            "marker": {
             "pattern": {
              "fillmode": "overlay",
              "size": 10,
              "solidity": 0.2
             }
            },
            "type": "histogram"
           }
          ],
          "histogram2d": [
           {
            "colorbar": {
             "outlinewidth": 0,
             "ticks": ""
            },
            "colorscale": [
             [
              0,
              "#0d0887"
             ],
             [
              0.1111111111111111,
              "#46039f"
             ],
             [
              0.2222222222222222,
              "#7201a8"
             ],
             [
              0.3333333333333333,
              "#9c179e"
             ],
             [
              0.4444444444444444,
              "#bd3786"
             ],
             [
              0.5555555555555556,
              "#d8576b"
             ],
             [
              0.6666666666666666,
              "#ed7953"
             ],
             [
              0.7777777777777778,
              "#fb9f3a"
             ],
             [
              0.8888888888888888,
              "#fdca26"
             ],
             [
              1,
              "#f0f921"
             ]
            ],
            "type": "histogram2d"
           }
          ],
          "histogram2dcontour": [
           {
            "colorbar": {
             "outlinewidth": 0,
             "ticks": ""
            },
            "colorscale": [
             [
              0,
              "#0d0887"
             ],
             [
              0.1111111111111111,
              "#46039f"
             ],
             [
              0.2222222222222222,
              "#7201a8"
             ],
             [
              0.3333333333333333,
              "#9c179e"
             ],
             [
              0.4444444444444444,
              "#bd3786"
             ],
             [
              0.5555555555555556,
              "#d8576b"
             ],
             [
              0.6666666666666666,
              "#ed7953"
             ],
             [
              0.7777777777777778,
              "#fb9f3a"
             ],
             [
              0.8888888888888888,
              "#fdca26"
             ],
             [
              1,
              "#f0f921"
             ]
            ],
            "type": "histogram2dcontour"
           }
          ],
          "mesh3d": [
           {
            "colorbar": {
             "outlinewidth": 0,
             "ticks": ""
            },
            "type": "mesh3d"
           }
          ],
          "parcoords": [
           {
            "line": {
             "colorbar": {
              "outlinewidth": 0,
              "ticks": ""
             }
            },
            "type": "parcoords"
           }
          ],
          "pie": [
           {
            "automargin": true,
            "type": "pie"
           }
          ],
          "scatter": [
           {
            "fillpattern": {
             "fillmode": "overlay",
             "size": 10,
             "solidity": 0.2
            },
            "type": "scatter"
           }
          ],
          "scatter3d": [
           {
            "line": {
             "colorbar": {
              "outlinewidth": 0,
              "ticks": ""
             }
            },
            "marker": {
             "colorbar": {
              "outlinewidth": 0,
              "ticks": ""
             }
            },
            "type": "scatter3d"
           }
          ],
          "scattercarpet": [
           {
            "marker": {
             "colorbar": {
              "outlinewidth": 0,
              "ticks": ""
             }
            },
            "type": "scattercarpet"
           }
          ],
          "scattergeo": [
           {
            "marker": {
             "colorbar": {
              "outlinewidth": 0,
              "ticks": ""
             }
            },
            "type": "scattergeo"
           }
          ],
          "scattergl": [
           {
            "marker": {
             "colorbar": {
              "outlinewidth": 0,
              "ticks": ""
             }
            },
            "type": "scattergl"
           }
          ],
          "scattermapbox": [
           {
            "marker": {
             "colorbar": {
              "outlinewidth": 0,
              "ticks": ""
             }
            },
            "type": "scattermapbox"
           }
          ],
          "scatterpolar": [
           {
            "marker": {
             "colorbar": {
              "outlinewidth": 0,
              "ticks": ""
             }
            },
            "type": "scatterpolar"
           }
          ],
          "scatterpolargl": [
           {
            "marker": {
             "colorbar": {
              "outlinewidth": 0,
              "ticks": ""
             }
            },
            "type": "scatterpolargl"
           }
          ],
          "scatterternary": [
           {
            "marker": {
             "colorbar": {
              "outlinewidth": 0,
              "ticks": ""
             }
            },
            "type": "scatterternary"
           }
          ],
          "surface": [
           {
            "colorbar": {
             "outlinewidth": 0,
             "ticks": ""
            },
            "colorscale": [
             [
              0,
              "#0d0887"
             ],
             [
              0.1111111111111111,
              "#46039f"
             ],
             [
              0.2222222222222222,
              "#7201a8"
             ],
             [
              0.3333333333333333,
              "#9c179e"
             ],
             [
              0.4444444444444444,
              "#bd3786"
             ],
             [
              0.5555555555555556,
              "#d8576b"
             ],
             [
              0.6666666666666666,
              "#ed7953"
             ],
             [
              0.7777777777777778,
              "#fb9f3a"
             ],
             [
              0.8888888888888888,
              "#fdca26"
             ],
             [
              1,
              "#f0f921"
             ]
            ],
            "type": "surface"
           }
          ],
          "table": [
           {
            "cells": {
             "fill": {
              "color": "#EBF0F8"
             },
             "line": {
              "color": "white"
             }
            },
            "header": {
             "fill": {
              "color": "#C8D4E3"
             },
             "line": {
              "color": "white"
             }
            },
            "type": "table"
           }
          ]
         },
         "layout": {
          "annotationdefaults": {
           "arrowcolor": "#2a3f5f",
           "arrowhead": 0,
           "arrowwidth": 1
          },
          "autotypenumbers": "strict",
          "coloraxis": {
           "colorbar": {
            "outlinewidth": 0,
            "ticks": ""
           }
          },
          "colorscale": {
           "diverging": [
            [
             0,
             "#8e0152"
            ],
            [
             0.1,
             "#c51b7d"
            ],
            [
             0.2,
             "#de77ae"
            ],
            [
             0.3,
             "#f1b6da"
            ],
            [
             0.4,
             "#fde0ef"
            ],
            [
             0.5,
             "#f7f7f7"
            ],
            [
             0.6,
             "#e6f5d0"
            ],
            [
             0.7,
             "#b8e186"
            ],
            [
             0.8,
             "#7fbc41"
            ],
            [
             0.9,
             "#4d9221"
            ],
            [
             1,
             "#276419"
            ]
           ],
           "sequential": [
            [
             0,
             "#0d0887"
            ],
            [
             0.1111111111111111,
             "#46039f"
            ],
            [
             0.2222222222222222,
             "#7201a8"
            ],
            [
             0.3333333333333333,
             "#9c179e"
            ],
            [
             0.4444444444444444,
             "#bd3786"
            ],
            [
             0.5555555555555556,
             "#d8576b"
            ],
            [
             0.6666666666666666,
             "#ed7953"
            ],
            [
             0.7777777777777778,
             "#fb9f3a"
            ],
            [
             0.8888888888888888,
             "#fdca26"
            ],
            [
             1,
             "#f0f921"
            ]
           ],
           "sequentialminus": [
            [
             0,
             "#0d0887"
            ],
            [
             0.1111111111111111,
             "#46039f"
            ],
            [
             0.2222222222222222,
             "#7201a8"
            ],
            [
             0.3333333333333333,
             "#9c179e"
            ],
            [
             0.4444444444444444,
             "#bd3786"
            ],
            [
             0.5555555555555556,
             "#d8576b"
            ],
            [
             0.6666666666666666,
             "#ed7953"
            ],
            [
             0.7777777777777778,
             "#fb9f3a"
            ],
            [
             0.8888888888888888,
             "#fdca26"
            ],
            [
             1,
             "#f0f921"
            ]
           ]
          },
          "colorway": [
           "#636efa",
           "#EF553B",
           "#00cc96",
           "#ab63fa",
           "#FFA15A",
           "#19d3f3",
           "#FF6692",
           "#B6E880",
           "#FF97FF",
           "#FECB52"
          ],
          "font": {
           "color": "#2a3f5f"
          },
          "geo": {
           "bgcolor": "white",
           "lakecolor": "white",
           "landcolor": "#E5ECF6",
           "showlakes": true,
           "showland": true,
           "subunitcolor": "white"
          },
          "hoverlabel": {
           "align": "left"
          },
          "hovermode": "closest",
          "mapbox": {
           "style": "light"
          },
          "paper_bgcolor": "white",
          "plot_bgcolor": "#E5ECF6",
          "polar": {
           "angularaxis": {
            "gridcolor": "white",
            "linecolor": "white",
            "ticks": ""
           },
           "bgcolor": "#E5ECF6",
           "radialaxis": {
            "gridcolor": "white",
            "linecolor": "white",
            "ticks": ""
           }
          },
          "scene": {
           "xaxis": {
            "backgroundcolor": "#E5ECF6",
            "gridcolor": "white",
            "gridwidth": 2,
            "linecolor": "white",
            "showbackground": true,
            "ticks": "",
            "zerolinecolor": "white"
           },
           "yaxis": {
            "backgroundcolor": "#E5ECF6",
            "gridcolor": "white",
            "gridwidth": 2,
            "linecolor": "white",
            "showbackground": true,
            "ticks": "",
            "zerolinecolor": "white"
           },
           "zaxis": {
            "backgroundcolor": "#E5ECF6",
            "gridcolor": "white",
            "gridwidth": 2,
            "linecolor": "white",
            "showbackground": true,
            "ticks": "",
            "zerolinecolor": "white"
           }
          },
          "shapedefaults": {
           "line": {
            "color": "#2a3f5f"
           }
          },
          "ternary": {
           "aaxis": {
            "gridcolor": "white",
            "linecolor": "white",
            "ticks": ""
           },
           "baxis": {
            "gridcolor": "white",
            "linecolor": "white",
            "ticks": ""
           },
           "bgcolor": "#E5ECF6",
           "caxis": {
            "gridcolor": "white",
            "linecolor": "white",
            "ticks": ""
           }
          },
          "title": {
           "x": 0.05
          },
          "xaxis": {
           "automargin": true,
           "gridcolor": "white",
           "linecolor": "white",
           "ticks": "",
           "title": {
            "standoff": 15
           },
           "zerolinecolor": "white",
           "zerolinewidth": 2
          },
          "yaxis": {
           "automargin": true,
           "gridcolor": "white",
           "linecolor": "white",
           "ticks": "",
           "title": {
            "standoff": 15
           },
           "zerolinecolor": "white",
           "zerolinewidth": 2
          }
         }
        }
       }
      },
      "text/html": [
       "<div>                            <div id=\"055ee471-853f-49e3-818e-9312a9d97e67\" class=\"plotly-graph-div\" style=\"height:525px; width:100%;\"></div>            <script type=\"text/javascript\">                require([\"plotly\"], function(Plotly) {                    window.PLOTLYENV=window.PLOTLYENV || {};                                    if (document.getElementById(\"055ee471-853f-49e3-818e-9312a9d97e67\")) {                    Plotly.newPlot(                        \"055ee471-853f-49e3-818e-9312a9d97e67\",                        [{\"marker\":{\"color\":[0,1,2,3,4,5,6,7,8,9,10,11,12,13,14,15,16,17,18,19,20,21,22,23,24,25,26,27,28,29,30,31,32,33,34,35,36,37,38,39,40,41,42,43,44,45,46,47,48,49,50,51,52,53,54,55,56,57,58,59,60,61,62,63,64,65,66,67,68,69,70,71,72,73,74,75,76,77,78,79],\"colorscale\":[[0.0,\"#440154\"],[0.1111111111111111,\"#482878\"],[0.2222222222222222,\"#3e4989\"],[0.3333333333333333,\"#31688e\"],[0.4444444444444444,\"#26828e\"],[0.5555555555555556,\"#1f9e89\"],[0.6666666666666666,\"#35b779\"],[0.7777777777777778,\"#6ece58\"],[0.8888888888888888,\"#b5de2b\"],[1.0,\"#fde725\"]],\"opacity\":0.8,\"size\":4},\"mode\":\"markers\",\"x\":[0.0,0.0,0.0,0.0,0.0,0.0,0.0,0.0,0.0,0.0,0.0,0.0,0.0,0.0,0.0,0.0,0.0,0.0,0.0,0.0,0.0,0.0,0.0,0.0,0.0,0.0,0.0,0.0,0.0,0.0,0.0,0.0,0.0,0.0,0.0,0.0,0.0,0.0,0.0,0.0,0.0,0.0,0.0,0.0,0.0,0.0,0.0,0.0,0.0,0.0,0.0,0.0,0.0,0.0,0.0,0.0,0.0,0.0,0.0,0.0,0.0,0.0,0.0,2.2514150142669678,2.194214344024658,1.6129077672958374,1.5039173364639282,1.128732442855835,1.0840636491775513,0.6303466558456421,0.6298794150352478,0.6054357290267944,0.3618258833885193,0.36093348264694214,0.35765859484672546,0.2763245701789856,0.2641380727291107,0.26214009523391724,0.2582392692565918,0.7024535536766052],\"y\":[0.14414195716381073,0.15077391266822815,0.15332858264446259,0.1704753041267395,0.1796453893184662,0.18190424144268036,0.19743189215660095,0.2214328944683075,0.22397911548614502,0.23658786714076996,0.2377142310142517,0.24348968267440796,0.24741683900356293,0.25090160965919495,0.25129035115242004,0.25672030448913574,0.25748494267463684,0.26217058300971985,0.2704928517341614,0.28759217262268066,0.28784894943237305,0.29568910598754883,0.31275737285614014,0.32764944434165955,0.3344831168651581,0.3364616930484772,0.3484780192375183,0.396549254655838,0.40543243288993835,0.4259251356124878,0.43452703952789307,0.44938379526138306,0.4586581587791443,0.4622722268104553,0.48382890224456787,0.5150649547576904,0.5236313343048096,0.5562531352043152,0.559422492980957,0.5728203058242798,0.5923304557800293,0.6192267537117004,0.6503002643585205,0.7027929425239563,0.7247371077537537,0.7471638917922974,0.7476024031639099,0.7957478761672974,0.8301357626914978,0.8815721869468689,0.8897081017494202,0.8924579620361328,0.9376592040061951,0.973578929901123,1.060679316520691,1.1868460178375244,1.21409010887146,1.2492116689682007,1.3311960697174072,1.3401498794555664,1.3680214881896973,1.5578269958496094,1.9667025804519653,2.3800530433654785,2.2868504524230957,1.622235894203186,1.6101070642471313,1.67853581905365,1.098381519317627,0.6533962488174438,0.903892457485199,0.6983797550201416,0.37278714776039124,0.3957885205745697,0.40329617261886597,0.2764773666858673,0.26641881465911865,0.2958170473575592,0.26641881465911865,0.7402744293212891],\"z\":[0.0,0.0,0.0,0.0,0.0,0.0,0.0,0.0,0.0,0.0,0.0,0.0,0.0,0.0,0.0,0.0,0.0,0.0,0.0,0.0,0.0,0.0,0.0,0.0,0.0,0.0,0.0,0.0,0.0,0.0,0.0,0.0,0.0,0.0,0.0,0.0,0.0,0.0,0.0,0.0,0.0,0.0,0.0,0.0,0.0,0.0,0.0,0.0,0.0,0.0,0.0,0.0,0.0,0.0,0.0,0.0,0.0,0.0,0.0,0.0,0.0,0.0,0.0,1.0,1.0,1.0,1.0,1.0,1.0,1.0,1.0,1.0,1.0,1.0,1.0,1.0,1.0,1.0,1.0,2.0],\"type\":\"scatter3d\"}],                        {\"template\":{\"data\":{\"histogram2dcontour\":[{\"type\":\"histogram2dcontour\",\"colorbar\":{\"outlinewidth\":0,\"ticks\":\"\"},\"colorscale\":[[0.0,\"#0d0887\"],[0.1111111111111111,\"#46039f\"],[0.2222222222222222,\"#7201a8\"],[0.3333333333333333,\"#9c179e\"],[0.4444444444444444,\"#bd3786\"],[0.5555555555555556,\"#d8576b\"],[0.6666666666666666,\"#ed7953\"],[0.7777777777777778,\"#fb9f3a\"],[0.8888888888888888,\"#fdca26\"],[1.0,\"#f0f921\"]]}],\"choropleth\":[{\"type\":\"choropleth\",\"colorbar\":{\"outlinewidth\":0,\"ticks\":\"\"}}],\"histogram2d\":[{\"type\":\"histogram2d\",\"colorbar\":{\"outlinewidth\":0,\"ticks\":\"\"},\"colorscale\":[[0.0,\"#0d0887\"],[0.1111111111111111,\"#46039f\"],[0.2222222222222222,\"#7201a8\"],[0.3333333333333333,\"#9c179e\"],[0.4444444444444444,\"#bd3786\"],[0.5555555555555556,\"#d8576b\"],[0.6666666666666666,\"#ed7953\"],[0.7777777777777778,\"#fb9f3a\"],[0.8888888888888888,\"#fdca26\"],[1.0,\"#f0f921\"]]}],\"heatmap\":[{\"type\":\"heatmap\",\"colorbar\":{\"outlinewidth\":0,\"ticks\":\"\"},\"colorscale\":[[0.0,\"#0d0887\"],[0.1111111111111111,\"#46039f\"],[0.2222222222222222,\"#7201a8\"],[0.3333333333333333,\"#9c179e\"],[0.4444444444444444,\"#bd3786\"],[0.5555555555555556,\"#d8576b\"],[0.6666666666666666,\"#ed7953\"],[0.7777777777777778,\"#fb9f3a\"],[0.8888888888888888,\"#fdca26\"],[1.0,\"#f0f921\"]]}],\"heatmapgl\":[{\"type\":\"heatmapgl\",\"colorbar\":{\"outlinewidth\":0,\"ticks\":\"\"},\"colorscale\":[[0.0,\"#0d0887\"],[0.1111111111111111,\"#46039f\"],[0.2222222222222222,\"#7201a8\"],[0.3333333333333333,\"#9c179e\"],[0.4444444444444444,\"#bd3786\"],[0.5555555555555556,\"#d8576b\"],[0.6666666666666666,\"#ed7953\"],[0.7777777777777778,\"#fb9f3a\"],[0.8888888888888888,\"#fdca26\"],[1.0,\"#f0f921\"]]}],\"contourcarpet\":[{\"type\":\"contourcarpet\",\"colorbar\":{\"outlinewidth\":0,\"ticks\":\"\"}}],\"contour\":[{\"type\":\"contour\",\"colorbar\":{\"outlinewidth\":0,\"ticks\":\"\"},\"colorscale\":[[0.0,\"#0d0887\"],[0.1111111111111111,\"#46039f\"],[0.2222222222222222,\"#7201a8\"],[0.3333333333333333,\"#9c179e\"],[0.4444444444444444,\"#bd3786\"],[0.5555555555555556,\"#d8576b\"],[0.6666666666666666,\"#ed7953\"],[0.7777777777777778,\"#fb9f3a\"],[0.8888888888888888,\"#fdca26\"],[1.0,\"#f0f921\"]]}],\"surface\":[{\"type\":\"surface\",\"colorbar\":{\"outlinewidth\":0,\"ticks\":\"\"},\"colorscale\":[[0.0,\"#0d0887\"],[0.1111111111111111,\"#46039f\"],[0.2222222222222222,\"#7201a8\"],[0.3333333333333333,\"#9c179e\"],[0.4444444444444444,\"#bd3786\"],[0.5555555555555556,\"#d8576b\"],[0.6666666666666666,\"#ed7953\"],[0.7777777777777778,\"#fb9f3a\"],[0.8888888888888888,\"#fdca26\"],[1.0,\"#f0f921\"]]}],\"mesh3d\":[{\"type\":\"mesh3d\",\"colorbar\":{\"outlinewidth\":0,\"ticks\":\"\"}}],\"scatter\":[{\"fillpattern\":{\"fillmode\":\"overlay\",\"size\":10,\"solidity\":0.2},\"type\":\"scatter\"}],\"parcoords\":[{\"type\":\"parcoords\",\"line\":{\"colorbar\":{\"outlinewidth\":0,\"ticks\":\"\"}}}],\"scatterpolargl\":[{\"type\":\"scatterpolargl\",\"marker\":{\"colorbar\":{\"outlinewidth\":0,\"ticks\":\"\"}}}],\"bar\":[{\"error_x\":{\"color\":\"#2a3f5f\"},\"error_y\":{\"color\":\"#2a3f5f\"},\"marker\":{\"line\":{\"color\":\"#E5ECF6\",\"width\":0.5},\"pattern\":{\"fillmode\":\"overlay\",\"size\":10,\"solidity\":0.2}},\"type\":\"bar\"}],\"scattergeo\":[{\"type\":\"scattergeo\",\"marker\":{\"colorbar\":{\"outlinewidth\":0,\"ticks\":\"\"}}}],\"scatterpolar\":[{\"type\":\"scatterpolar\",\"marker\":{\"colorbar\":{\"outlinewidth\":0,\"ticks\":\"\"}}}],\"histogram\":[{\"marker\":{\"pattern\":{\"fillmode\":\"overlay\",\"size\":10,\"solidity\":0.2}},\"type\":\"histogram\"}],\"scattergl\":[{\"type\":\"scattergl\",\"marker\":{\"colorbar\":{\"outlinewidth\":0,\"ticks\":\"\"}}}],\"scatter3d\":[{\"type\":\"scatter3d\",\"line\":{\"colorbar\":{\"outlinewidth\":0,\"ticks\":\"\"}},\"marker\":{\"colorbar\":{\"outlinewidth\":0,\"ticks\":\"\"}}}],\"scattermapbox\":[{\"type\":\"scattermapbox\",\"marker\":{\"colorbar\":{\"outlinewidth\":0,\"ticks\":\"\"}}}],\"scatterternary\":[{\"type\":\"scatterternary\",\"marker\":{\"colorbar\":{\"outlinewidth\":0,\"ticks\":\"\"}}}],\"scattercarpet\":[{\"type\":\"scattercarpet\",\"marker\":{\"colorbar\":{\"outlinewidth\":0,\"ticks\":\"\"}}}],\"carpet\":[{\"aaxis\":{\"endlinecolor\":\"#2a3f5f\",\"gridcolor\":\"white\",\"linecolor\":\"white\",\"minorgridcolor\":\"white\",\"startlinecolor\":\"#2a3f5f\"},\"baxis\":{\"endlinecolor\":\"#2a3f5f\",\"gridcolor\":\"white\",\"linecolor\":\"white\",\"minorgridcolor\":\"white\",\"startlinecolor\":\"#2a3f5f\"},\"type\":\"carpet\"}],\"table\":[{\"cells\":{\"fill\":{\"color\":\"#EBF0F8\"},\"line\":{\"color\":\"white\"}},\"header\":{\"fill\":{\"color\":\"#C8D4E3\"},\"line\":{\"color\":\"white\"}},\"type\":\"table\"}],\"barpolar\":[{\"marker\":{\"line\":{\"color\":\"#E5ECF6\",\"width\":0.5},\"pattern\":{\"fillmode\":\"overlay\",\"size\":10,\"solidity\":0.2}},\"type\":\"barpolar\"}],\"pie\":[{\"automargin\":true,\"type\":\"pie\"}]},\"layout\":{\"autotypenumbers\":\"strict\",\"colorway\":[\"#636efa\",\"#EF553B\",\"#00cc96\",\"#ab63fa\",\"#FFA15A\",\"#19d3f3\",\"#FF6692\",\"#B6E880\",\"#FF97FF\",\"#FECB52\"],\"font\":{\"color\":\"#2a3f5f\"},\"hovermode\":\"closest\",\"hoverlabel\":{\"align\":\"left\"},\"paper_bgcolor\":\"white\",\"plot_bgcolor\":\"#E5ECF6\",\"polar\":{\"bgcolor\":\"#E5ECF6\",\"angularaxis\":{\"gridcolor\":\"white\",\"linecolor\":\"white\",\"ticks\":\"\"},\"radialaxis\":{\"gridcolor\":\"white\",\"linecolor\":\"white\",\"ticks\":\"\"}},\"ternary\":{\"bgcolor\":\"#E5ECF6\",\"aaxis\":{\"gridcolor\":\"white\",\"linecolor\":\"white\",\"ticks\":\"\"},\"baxis\":{\"gridcolor\":\"white\",\"linecolor\":\"white\",\"ticks\":\"\"},\"caxis\":{\"gridcolor\":\"white\",\"linecolor\":\"white\",\"ticks\":\"\"}},\"coloraxis\":{\"colorbar\":{\"outlinewidth\":0,\"ticks\":\"\"}},\"colorscale\":{\"sequential\":[[0.0,\"#0d0887\"],[0.1111111111111111,\"#46039f\"],[0.2222222222222222,\"#7201a8\"],[0.3333333333333333,\"#9c179e\"],[0.4444444444444444,\"#bd3786\"],[0.5555555555555556,\"#d8576b\"],[0.6666666666666666,\"#ed7953\"],[0.7777777777777778,\"#fb9f3a\"],[0.8888888888888888,\"#fdca26\"],[1.0,\"#f0f921\"]],\"sequentialminus\":[[0.0,\"#0d0887\"],[0.1111111111111111,\"#46039f\"],[0.2222222222222222,\"#7201a8\"],[0.3333333333333333,\"#9c179e\"],[0.4444444444444444,\"#bd3786\"],[0.5555555555555556,\"#d8576b\"],[0.6666666666666666,\"#ed7953\"],[0.7777777777777778,\"#fb9f3a\"],[0.8888888888888888,\"#fdca26\"],[1.0,\"#f0f921\"]],\"diverging\":[[0,\"#8e0152\"],[0.1,\"#c51b7d\"],[0.2,\"#de77ae\"],[0.3,\"#f1b6da\"],[0.4,\"#fde0ef\"],[0.5,\"#f7f7f7\"],[0.6,\"#e6f5d0\"],[0.7,\"#b8e186\"],[0.8,\"#7fbc41\"],[0.9,\"#4d9221\"],[1,\"#276419\"]]},\"xaxis\":{\"gridcolor\":\"white\",\"linecolor\":\"white\",\"ticks\":\"\",\"title\":{\"standoff\":15},\"zerolinecolor\":\"white\",\"automargin\":true,\"zerolinewidth\":2},\"yaxis\":{\"gridcolor\":\"white\",\"linecolor\":\"white\",\"ticks\":\"\",\"title\":{\"standoff\":15},\"zerolinecolor\":\"white\",\"automargin\":true,\"zerolinewidth\":2},\"scene\":{\"xaxis\":{\"backgroundcolor\":\"#E5ECF6\",\"gridcolor\":\"white\",\"linecolor\":\"white\",\"showbackground\":true,\"ticks\":\"\",\"zerolinecolor\":\"white\",\"gridwidth\":2},\"yaxis\":{\"backgroundcolor\":\"#E5ECF6\",\"gridcolor\":\"white\",\"linecolor\":\"white\",\"showbackground\":true,\"ticks\":\"\",\"zerolinecolor\":\"white\",\"gridwidth\":2},\"zaxis\":{\"backgroundcolor\":\"#E5ECF6\",\"gridcolor\":\"white\",\"linecolor\":\"white\",\"showbackground\":true,\"ticks\":\"\",\"zerolinecolor\":\"white\",\"gridwidth\":2}},\"shapedefaults\":{\"line\":{\"color\":\"#2a3f5f\"}},\"annotationdefaults\":{\"arrowcolor\":\"#2a3f5f\",\"arrowhead\":0,\"arrowwidth\":1},\"geo\":{\"bgcolor\":\"white\",\"landcolor\":\"#E5ECF6\",\"subunitcolor\":\"white\",\"showland\":true,\"showlakes\":true,\"lakecolor\":\"white\"},\"title\":{\"x\":0.05},\"mapbox\":{\"style\":\"light\"}}},\"scene\":{\"xaxis\":{\"title\":{\"text\":\"0th\"},\"type\":\"linear\",\"showexponent\":\"all\",\"exponentformat\":\"e\"},\"yaxis\":{\"title\":{\"text\":\"1st\"},\"type\":\"linear\",\"showexponent\":\"all\",\"exponentformat\":\"e\"},\"zaxis\":{\"title\":{\"text\":\"2nd\"},\"type\":\"linear\",\"showexponent\":\"all\",\"exponentformat\":\"e\"}}},                        {\"responsive\": true}                    ).then(function(){\n",
       "                            \n",
       "var gd = document.getElementById('055ee471-853f-49e3-818e-9312a9d97e67');\n",
       "var x = new MutationObserver(function (mutations, observer) {{\n",
       "        var display = window.getComputedStyle(gd).display;\n",
       "        if (!display || display === 'none') {{\n",
       "            console.log([gd, 'removed!']);\n",
       "            Plotly.purge(gd);\n",
       "            observer.disconnect();\n",
       "        }}\n",
       "}});\n",
       "\n",
       "// Listen for the removal of the full notebook cells\n",
       "var notebookContainer = gd.closest('#notebook-container');\n",
       "if (notebookContainer) {{\n",
       "    x.observe(notebookContainer, {childList: true});\n",
       "}}\n",
       "\n",
       "// Listen for the clearing of the current output cell\n",
       "var outputEl = gd.closest('.output');\n",
       "if (outputEl) {{\n",
       "    x.observe(outputEl, {childList: true});\n",
       "}}\n",
       "\n",
       "                        })                };                });            </script>        </div>"
      ]
     },
     "metadata": {},
     "output_type": "display_data"
    }
   ],
   "source": [
    "from gtda.plotting import plot_point_cloud\n",
    "plot_point_cloud(d[0])"
   ]
  },
  {
   "cell_type": "code",
   "execution_count": 39,
   "metadata": {},
   "outputs": [],
   "source": [
    "channel_name = 'F1'\n",
    "picks = mne.pick_channels(d[0].info['ch_names'], include=[channel_name]) "
   ]
  },
  {
   "cell_type": "code",
   "execution_count": 45,
   "metadata": {},
   "outputs": [
    {
     "data": {
      "text/html": [
       "<details open>\n",
       "    <summary><strong>General</strong></summary>\n",
       "    <table class=\"table table-hover table-striped table-sm table-responsive small\">\n",
       "        <tr>\n",
       "            <th>Measurement date</th>\n",
       "            \n",
       "            <td>April 01, 2009  12:03:04 GMT</td>\n",
       "            \n",
       "        </tr>\n",
       "        <tr>\n",
       "            <th>Experimenter</th>\n",
       "            \n",
       "            <td>Unknown</td>\n",
       "            \n",
       "        </tr>\n",
       "        <tr>\n",
       "            <th>Participant</th>\n",
       "            \n",
       "            \n",
       "            \n",
       "        </tr>\n",
       "    </table>\n",
       "    </details>\n",
       "    <details open>\n",
       "        <summary><strong>Channels</strong></summary>\n",
       "        <table class=\"table table-hover table-striped table-sm table-responsive small\">\n",
       "            <tr>\n",
       "                <th>Digitized points</th>\n",
       "                \n",
       "                <td>Not available</td>\n",
       "                \n",
       "            </tr>\n",
       "            <tr>\n",
       "                <th>Good channels</th>\n",
       "                <td>64 EEG</td>\n",
       "            </tr>\n",
       "            <tr>\n",
       "                <th>Bad channels</th>\n",
       "                <td>None</td>\n",
       "            </tr>\n",
       "            <tr>\n",
       "                <th>EOG channels</th>\n",
       "                <td>Not available</td>\n",
       "            </tr>\n",
       "            <tr>\n",
       "                <th>ECG channels</th>\n",
       "                <td>Not available</td>\n",
       "            </tr>\n",
       "        </table>\n",
       "        </details>\n",
       "        <details open>\n",
       "            <summary><strong>Data</strong></summary>\n",
       "            <table class=\"table table-hover table-striped table-sm table-responsive small\">\n",
       "                \n",
       "                <tr>\n",
       "                    <th>Sampling frequency</th>\n",
       "                    <td>256.00 Hz</td>\n",
       "                </tr>\n",
       "                \n",
       "                \n",
       "                <tr>\n",
       "                    <th>Highpass</th>\n",
       "                    <td>8.00 Hz</td>\n",
       "                </tr>\n",
       "                \n",
       "                \n",
       "                <tr>\n",
       "                    <th>Lowpass</th>\n",
       "                    <td>30.00 Hz</td>\n",
       "                </tr>\n",
       "                \n",
       "                \n",
       "                \n",
       "                \n",
       "            </table>\n",
       "            </details>"
      ],
      "text/plain": [
       "<Info | 9 non-empty values\n",
       " bads: []\n",
       " ch_names: Fp1, AF7, AF3, F1, F3, F5, F7, FT7, FC5, FC3, FC1, C1, C3, C5, ...\n",
       " chs: 64 EEG\n",
       " custom_ref_applied: False\n",
       " file_id: 4 items (dict)\n",
       " highpass: 8.0 Hz\n",
       " lowpass: 30.0 Hz\n",
       " meas_date: 2009-04-01 12:03:04 UTC\n",
       " meas_id: 4 items (dict)\n",
       " nchan: 64\n",
       " projs: []\n",
       " sfreq: 256.0 Hz\n",
       ">"
      ]
     },
     "execution_count": 45,
     "metadata": {},
     "output_type": "execute_result"
    }
   ],
   "source": [
    "d[0].info"
   ]
  },
  {
   "cell_type": "code",
   "execution_count": 50,
   "metadata": {},
   "outputs": [
    {
     "name": "stderr",
     "output_type": "stream",
     "text": [
      "/tmp/ipykernel_631453/1676636205.py:1: FutureWarning:\n",
      "\n",
      "The current default of copy=False will change to copy=True in 1.7. Set the value of copy explicitly to avoid this warning\n",
      "\n"
     ]
    }
   ],
   "source": [
    "ok = d[0].get_data()"
   ]
  },
  {
   "cell_type": "code",
   "execution_count": 54,
   "metadata": {},
   "outputs": [
    {
     "data": {
      "text/plain": [
       "3"
      ]
     },
     "execution_count": 54,
     "metadata": {},
     "output_type": "execute_result"
    }
   ],
   "source": [
    "picks[0]"
   ]
  },
  {
   "cell_type": "code",
   "execution_count": 67,
   "metadata": {},
   "outputs": [
    {
     "name": "stderr",
     "output_type": "stream",
     "text": [
      "/tmp/ipykernel_631453/3620638131.py:1: FutureWarning:\n",
      "\n",
      "The current default of copy=False will change to copy=True in 1.7. Set the value of copy explicitly to avoid this warning\n",
      "\n"
     ]
    }
   ],
   "source": [
    "data = d[0].get_data()[:,picks, :]"
   ]
  },
  {
   "cell_type": "code",
   "execution_count": 61,
   "metadata": {},
   "outputs": [],
   "source": [
    "from gtda.time_series import SingleTakensEmbedding\n",
    "embedding_dimension = 30\n",
    "embedding_time_delay = 100\n",
    "stride = 10\n",
    "\n",
    "embedder = SingleTakensEmbedding(\n",
    "    parameters_type=\"search\", n_jobs=6, time_delay=embedding_time_delay, dimension=embedding_dimension, stride=stride\n",
    ")"
   ]
  },
  {
   "cell_type": "code",
   "execution_count": 68,
   "metadata": {},
   "outputs": [
    {
     "data": {
      "text/plain": [
       "(1281,)"
      ]
     },
     "execution_count": 68,
     "metadata": {},
     "output_type": "execute_result"
    }
   ],
   "source": [
    "data = data[0,0,:]\n",
    "data.shape"
   ]
  },
  {
   "cell_type": "code",
   "execution_count": 69,
   "metadata": {},
   "outputs": [],
   "source": [
    "y_signal_embedded = embedder.fit_transform(data)"
   ]
  },
  {
   "cell_type": "code",
   "execution_count": 70,
   "metadata": {},
   "outputs": [
    {
     "data": {
      "application/vnd.plotly.v1+json": {
       "config": {
        "plotlyServerURL": "https://plot.ly"
       },
       "data": [
        {
         "marker": {
          "color": [
           0,
           1,
           2,
           3,
           4,
           5,
           6,
           7,
           8,
           9,
           10,
           11,
           12,
           13,
           14,
           15,
           16,
           17,
           18,
           19,
           20,
           21,
           22,
           23,
           24,
           25,
           26,
           27,
           28,
           29,
           30,
           31,
           32,
           33,
           34,
           35,
           36,
           37,
           38,
           39,
           40,
           41,
           42,
           43,
           44,
           45,
           46,
           47,
           48,
           49,
           50,
           51,
           52,
           53,
           54,
           55,
           56,
           57,
           58,
           59,
           60,
           61,
           62,
           63,
           64,
           65,
           66,
           67,
           68,
           69,
           70,
           71,
           72,
           73,
           74,
           75,
           76,
           77,
           78,
           79,
           80,
           81,
           82,
           83,
           84,
           85,
           86,
           87,
           88,
           89,
           90,
           91,
           92,
           93,
           94,
           95,
           96,
           97,
           98,
           99,
           100,
           101,
           102,
           103,
           104,
           105,
           106,
           107,
           108,
           109,
           110,
           111,
           112,
           113,
           114,
           115,
           116,
           117,
           118,
           119,
           120,
           121,
           122,
           123,
           124,
           125
          ],
          "colorscale": [
           [
            0,
            "#440154"
           ],
           [
            0.1111111111111111,
            "#482878"
           ],
           [
            0.2222222222222222,
            "#3e4989"
           ],
           [
            0.3333333333333333,
            "#31688e"
           ],
           [
            0.4444444444444444,
            "#26828e"
           ],
           [
            0.5555555555555556,
            "#1f9e89"
           ],
           [
            0.6666666666666666,
            "#35b779"
           ],
           [
            0.7777777777777778,
            "#6ece58"
           ],
           [
            0.8888888888888888,
            "#b5de2b"
           ],
           [
            1,
            "#fde725"
           ]
          ],
          "opacity": 0.8,
          "size": 4
         },
         "mode": "markers",
         "type": "scatter3d",
         "x": [
          -0.00002133034342409993,
          0.000010591559548161327,
          0.0000027674310484117363,
          -0.000018095138701930026,
          0.000018162283716230888,
          -0.000010690405818752966,
          0.000004630732651136497,
          -0.000008413316783229532,
          0.000025056880072478108,
          -0.00002398604998234476,
          -0.000006992291366841593,
          0.00003537469737212474,
          -0.00005100419210909453,
          0.000024612112660079563,
          0.0000357867112270536,
          -0.00005481607872363442,
          0.000027592490410972268,
          0.00001789988741365122,
          -0.000044489947982175025,
          0.000024499298792234695,
          0.000012875467786195655,
          -0.000031852336113281616,
          0.000020307688929027928,
          0.000012733610173717808,
          -0.000041677478218759196,
          0.00003071798026899635,
          7.35264091632785e-7,
          -0.000032782281676735016,
          0.000029031200710706858,
          0.000007036810729530265,
          -0.00004928150393508868,
          0.000059062900940859275,
          -0.00002683052016896929,
          -0.000006041088178063409,
          0.000018423710537668866,
          -0.000006894743218679447,
          0.000005522390675009035,
          -0.0000068990891527698735,
          -0.000006551994709076897,
          0.000022178659308144324,
          -0.000030127120878341863,
          0.000011285600728962474,
          0.00003239928635376386,
          -0.00004908910351188644,
          0.00002595232444963543,
          0.000007695923476133206,
          -0.000024025506393583236,
          0.000010602198672520585,
          0.000001769090627394736,
          -0.0000064896379767265436,
          0.000013307505772436202,
          -0.00001092719820474064,
          0.0000012597435699168127,
          0.00001778588080883738,
          -0.000028686043599104124,
          0.000012701838373255668,
          0.00002305612085069404,
          -0.00003351667323694886,
          0.000005059306764742426,
          0.000022629869833593106,
          -0.00002461161710051659,
          -3.866214414095318e-7,
          0.000018565138784707386,
          -0.000010388084121851215,
          -0.0000222064847298974,
          0.000033958756408966816,
          -0.000022280926259808905,
          -0.000003917895285074622,
          0.000028459302688987258,
          -0.00002044030342377625,
          -0.000002001641642394746,
          0.00000922401055021975,
          -0.00002142807870089555,
          0.000015559136263922646,
          0.0000036606885150514046,
          -0.0000041012690936560165,
          0.0000049205073325300856,
          0.0000024405036234037873,
          -0.000012168262209483097,
          0.00000725418750471435,
          5.651623528759565e-7,
          -0.0000020901507012278893,
          -0.000007662280909555754,
          0.000017470137931104256,
          -0.00001879204301206636,
          0.00000955988268678885,
          0.000007638028644161215,
          -0.000017874636255336955,
          0.000008452381412391792,
          0.000009138075563878501,
          -0.000025511134473168745,
          0.00002274839767365464,
          -0.000002817955779025136,
          -0.00002200928393395711,
          0.00003338794831152887,
          -0.000009115415752996642,
          -0.000016486965326981034,
          0.00002702229106334942,
          -0.00002192797278018997,
          -0.000009716332181410654,
          0.00003422934581776792,
          -0.00002831583685300603,
          0.0000013834182085955124,
          0.00002782981442675351,
          -0.0000410051044011397,
          0.000024385015321019096,
          0.00001378576028707273,
          -0.000035057011543509956,
          0.000027640265519856132,
          -0.0000074223662242804905,
          -0.00002373191496668966,
          0.00003731541173939289,
          -0.000015555739185933684,
          -0.000012652837643002427,
          0.0000256139930651719,
          -0.00002433145406930863,
          0.0000011340210733983477,
          0.000014589088849831957,
          -0.00001522884643717375,
          0.00001531403256673638,
          0.0000024901509200189983,
          -0.000022513780056470036,
          0.00002550680889120657,
          -0.000016135757955279866,
          -0.000011926337189960897,
          0.00004095630236032465
         ],
         "y": [
          -0.000009125243739522633,
          0.000021162228031454713,
          -0.000022192520271204167,
          0.000012354249350117457,
          0.0000014754703270438987,
          -0.00000660076646180164,
          0.0000025418757316908256,
          0.000007951177474674692,
          -0.000008955191533223289,
          -0.000007934123714807833,
          0.00003102380053976212,
          -0.000028388301803983595,
          -0.000015450163017472584,
          0.00005451174445940239,
          -0.00004582865292876077,
          -0.0000021172050868863953,
          0.000045900155504037345,
          -0.00004003359912884953,
          0.0000018581771100296197,
          0.00003264347657315514,
          -0.000031059883732639526,
          0.0000019792200103745224,
          0.00002553133953505013,
          -0.00003203446589314083,
          0.000012966228961346872,
          0.000019848223693115247,
          -0.00003987621045731913,
          0.00001653863374056256,
          0.000027259916468644336,
          -0.00005183746375429672,
          0.000029264459837349974,
          0.000013256281141344718,
          -0.000037367426665321105,
          0.000025045555156049818,
          -0.000006309980059028762,
          -0.000003264617183531532,
          0.00000282221797650376,
          -0.0000042700933610161325,
          0.000014414759659836004,
          -0.000014784529737644464,
          -0.000012217995232857707,
          0.00004093609541951282,
          -0.000036438589937405485,
          1.5275755817665897e-7,
          0.000032494711018171455,
          -0.000027489716865486725,
          0.000001155725075144993,
          0.000015923155126154855,
          -0.0000171287597836034,
          0.000011502935738690402,
          -0.000008463131895926898,
          -0.0000030080272429184405,
          0.000020780442088609797,
          -0.000018453614213210848,
          -0.0000059246041030536445,
          0.000027290421744769717,
          -0.00001732955386047003,
          -0.000008132571295463254,
          0.00003041554823120788,
          -0.000017881706356082065,
          -0.000011937345717762717,
          0.000024237843177763818,
          -0.000003895097283999378,
          -0.000022202494292000568,
          0.000023719710209829732,
          0.0000014096231271372938,
          -0.00003191575037081713,
          0.000035602171839132187,
          -0.000013150644029186817,
          -0.0000055706758386269294,
          0.000016380106902026916,
          -0.000011218283767976983,
          -0.0000057462713127238376,
          0.000012018209963706053,
          -0.000017535892734889523,
          0.00001152287724062843,
          0.0000028081766493152474,
          -0.000006437836157661456,
          -0.0000040208595163116565,
          0.000012600763353919644,
          -0.000006525004258105039,
          -0.000004866257463413395,
          0.000006977689583560456,
          -8.15842486665217e-7,
          -0.000008712824143604714,
          0.00001363873633627801,
          -0.000010717718879283401,
          8.974791350088544e-8,
          0.000016109256201186884,
          -0.00002250799131677836,
          0.000010221404803872722,
          0.000014085444413202029,
          -0.00003321304380265487,
          0.000023683035101973452,
          4.680577237061907e-8,
          -0.000022338907735750392,
          0.000026477867479189505,
          -0.000001091095706743405,
          -0.000027319187473700925,
          0.000032261637594765655,
          -0.000011396369825551702,
          -0.000020533160814993342,
          0.000037986113009838736,
          -0.00002218770670400174,
          -0.000007219225387083071,
          0.0000316614267974889,
          -0.00003446656419492897,
          0.000013746078884600199,
          0.000017008898805674805,
          -0.00003353593141025886,
          0.000020336496525861045,
          0.000005914584207034101,
          -0.000026982755783948483,
          0.000027869693076674797,
          -0.000007317340079596273,
          -0.00001542178361012015,
          0.00001997025742065071,
          -0.000016542002414084234,
          0.0000031320250815626828,
          0.00001007663598088592,
          -0.000017634213351151895,
          0.000014890198815767677,
          0.0000034698997879412194,
          -0.000028131328355183882,
          0.000033468259631267086,
          -0.000011416543434103612
         ],
         "z": [
          0.0000012587414171985861,
          0.000009942953049664775,
          -0.00000822624307855616,
          0.000012097673943934637,
          0.0000018062202907750077,
          -0.000007654892591453024,
          1.9226584155536188e-7,
          -0.00000920822600266302,
          0.000006724911467613318,
          -9.35136265458223e-7,
          -0.00000971034793297834,
          0.00002051906533441223,
          -0.000009602145154547933,
          -0.000009878720004818109,
          -4.976872329214899e-7,
          0.0000048913478477147185,
          -0.000004605871993896474,
          0.000003247340372443066,
          0.000010150395753557911,
          -0.000007754639538217412,
          -0.000010841907907467514,
          0.000006905953667588842,
          0.000005016637284420087,
          -0.0000018892726289706492,
          0.000001865531879124894,
          0.000008046043268496357,
          -0.000003141432676021006,
          -0.0000045866297518860594,
          0.000003749342065632442,
          3.88533027865902e-7,
          -0.000012994427487185483,
          -0.000005131599195041526,
          -0.000006619577789983587,
          -0.0000031286116875432955,
          -0.000008101588945457733,
          0.000007835091002934003,
          -1.061873259101006e-7,
          -0.000001947300729003955,
          -5.474899629429728e-7,
          0.000008763159891179897,
          -0.000004569239689159267,
          -0.0000067446792440845784,
          -0.0000020540495345750016,
          0.000010959426861016406,
          1.8663998680900944e-7,
          -0.000008321019039679281,
          0.000007020669094716743,
          0.000004971587050617856,
          -0.000012145483332141025,
          0.0000018902377087095806,
          -8.236997952500429e-7,
          0.000008487030340817282,
          -0.000006581349728127024,
          0.000007173461481953285,
          0.00000868384274530602,
          -0.000004657478829378725,
          0.000009572056505800778,
          0.0000060217661311233515,
          0.000001364668329981177,
          3.508921039677046e-7,
          0.0000031938123468624565,
          0.00000384452927800805,
          0.00000379070273262116,
          0.0000059838043065358385,
          -0.000002288007768356624,
          0.000004527575232836926,
          0.0000016435423420671696,
          0.0000071499878513863404,
          -0.00001859458010957988,
          0.000010732308797490125,
          -0.0000014520400300457652,
          -0.000004803194631864766,
          -0.000007885764996551513,
          0.000003636787341859062,
          -0.000009174780237353246,
          0.0000025292625409002416,
          -0.000008388441157724907,
          0.000014668706835041189,
          5.185431190262001e-7,
          0.0000032790354746668847,
          -0.0000035312688249764587,
          0.0000058135628650707205,
          -0.0000062730401069974765,
          0.000008989326595594957,
          -0.0000050932530930317764,
          0.000003955471352067023,
          -2.659940426502222e-7,
          5.838693606101452e-7,
          0.000006068531203972819,
          -0.00000997422116839501,
          -0.000002990240484759787,
          0.0000020076319662911788,
          -0.000009375736793491355,
          -4.696714461041707e-7,
          -1.1504741535032316e-7,
          0.000008892676101071098,
          -0.000006935085795899176,
          0.000006773524050864319,
          0.000007492029548008814,
          -0.000003524473860007119,
          -0.000004995017181202222,
          0.000004268440549112807,
          0.0000017820781297990674,
          -0.000007256900505891375,
          -0.000004732555511688858,
          -6.385581464506208e-7,
          -0.000013678806503773127,
          0.000002738298771859875,
          0.000006740556346489233,
          -0.000004275687262262887,
          -0.00000456274437921291,
          0.000002346802391941892,
          -0.0000026952266763814124,
          0.00000173160892720177,
          -0.0000015479562116187435,
          0.0000028188537035615868,
          0.0000016312820266531028,
          -0.000007718043256998213,
          0.0000016269546507477413,
          3.3510742973e-8,
          0.000002300009064889731,
          -0.0000032888388854507864,
          0.00001190443159114663,
          0.000002468353062874746,
          -0.000009551826892001401,
          5.340515023560378e-7
         ]
        }
       ],
       "layout": {
        "scene": {
         "xaxis": {
          "exponentformat": "e",
          "showexponent": "all",
          "title": {
           "text": "0th"
          },
          "type": "linear"
         },
         "yaxis": {
          "exponentformat": "e",
          "showexponent": "all",
          "title": {
           "text": "1st"
          },
          "type": "linear"
         },
         "zaxis": {
          "exponentformat": "e",
          "showexponent": "all",
          "title": {
           "text": "2nd"
          },
          "type": "linear"
         }
        },
        "template": {
         "data": {
          "bar": [
           {
            "error_x": {
             "color": "#2a3f5f"
            },
            "error_y": {
             "color": "#2a3f5f"
            },
            "marker": {
             "line": {
              "color": "#E5ECF6",
              "width": 0.5
             },
             "pattern": {
              "fillmode": "overlay",
              "size": 10,
              "solidity": 0.2
             }
            },
            "type": "bar"
           }
          ],
          "barpolar": [
           {
            "marker": {
             "line": {
              "color": "#E5ECF6",
              "width": 0.5
             },
             "pattern": {
              "fillmode": "overlay",
              "size": 10,
              "solidity": 0.2
             }
            },
            "type": "barpolar"
           }
          ],
          "carpet": [
           {
            "aaxis": {
             "endlinecolor": "#2a3f5f",
             "gridcolor": "white",
             "linecolor": "white",
             "minorgridcolor": "white",
             "startlinecolor": "#2a3f5f"
            },
            "baxis": {
             "endlinecolor": "#2a3f5f",
             "gridcolor": "white",
             "linecolor": "white",
             "minorgridcolor": "white",
             "startlinecolor": "#2a3f5f"
            },
            "type": "carpet"
           }
          ],
          "choropleth": [
           {
            "colorbar": {
             "outlinewidth": 0,
             "ticks": ""
            },
            "type": "choropleth"
           }
          ],
          "contour": [
           {
            "colorbar": {
             "outlinewidth": 0,
             "ticks": ""
            },
            "colorscale": [
             [
              0,
              "#0d0887"
             ],
             [
              0.1111111111111111,
              "#46039f"
             ],
             [
              0.2222222222222222,
              "#7201a8"
             ],
             [
              0.3333333333333333,
              "#9c179e"
             ],
             [
              0.4444444444444444,
              "#bd3786"
             ],
             [
              0.5555555555555556,
              "#d8576b"
             ],
             [
              0.6666666666666666,
              "#ed7953"
             ],
             [
              0.7777777777777778,
              "#fb9f3a"
             ],
             [
              0.8888888888888888,
              "#fdca26"
             ],
             [
              1,
              "#f0f921"
             ]
            ],
            "type": "contour"
           }
          ],
          "contourcarpet": [
           {
            "colorbar": {
             "outlinewidth": 0,
             "ticks": ""
            },
            "type": "contourcarpet"
           }
          ],
          "heatmap": [
           {
            "colorbar": {
             "outlinewidth": 0,
             "ticks": ""
            },
            "colorscale": [
             [
              0,
              "#0d0887"
             ],
             [
              0.1111111111111111,
              "#46039f"
             ],
             [
              0.2222222222222222,
              "#7201a8"
             ],
             [
              0.3333333333333333,
              "#9c179e"
             ],
             [
              0.4444444444444444,
              "#bd3786"
             ],
             [
              0.5555555555555556,
              "#d8576b"
             ],
             [
              0.6666666666666666,
              "#ed7953"
             ],
             [
              0.7777777777777778,
              "#fb9f3a"
             ],
             [
              0.8888888888888888,
              "#fdca26"
             ],
             [
              1,
              "#f0f921"
             ]
            ],
            "type": "heatmap"
           }
          ],
          "heatmapgl": [
           {
            "colorbar": {
             "outlinewidth": 0,
             "ticks": ""
            },
            "colorscale": [
             [
              0,
              "#0d0887"
             ],
             [
              0.1111111111111111,
              "#46039f"
             ],
             [
              0.2222222222222222,
              "#7201a8"
             ],
             [
              0.3333333333333333,
              "#9c179e"
             ],
             [
              0.4444444444444444,
              "#bd3786"
             ],
             [
              0.5555555555555556,
              "#d8576b"
             ],
             [
              0.6666666666666666,
              "#ed7953"
             ],
             [
              0.7777777777777778,
              "#fb9f3a"
             ],
             [
              0.8888888888888888,
              "#fdca26"
             ],
             [
              1,
              "#f0f921"
             ]
            ],
            "type": "heatmapgl"
           }
          ],
          "histogram": [
           {
            "marker": {
             "pattern": {
              "fillmode": "overlay",
              "size": 10,
              "solidity": 0.2
             }
            },
            "type": "histogram"
           }
          ],
          "histogram2d": [
           {
            "colorbar": {
             "outlinewidth": 0,
             "ticks": ""
            },
            "colorscale": [
             [
              0,
              "#0d0887"
             ],
             [
              0.1111111111111111,
              "#46039f"
             ],
             [
              0.2222222222222222,
              "#7201a8"
             ],
             [
              0.3333333333333333,
              "#9c179e"
             ],
             [
              0.4444444444444444,
              "#bd3786"
             ],
             [
              0.5555555555555556,
              "#d8576b"
             ],
             [
              0.6666666666666666,
              "#ed7953"
             ],
             [
              0.7777777777777778,
              "#fb9f3a"
             ],
             [
              0.8888888888888888,
              "#fdca26"
             ],
             [
              1,
              "#f0f921"
             ]
            ],
            "type": "histogram2d"
           }
          ],
          "histogram2dcontour": [
           {
            "colorbar": {
             "outlinewidth": 0,
             "ticks": ""
            },
            "colorscale": [
             [
              0,
              "#0d0887"
             ],
             [
              0.1111111111111111,
              "#46039f"
             ],
             [
              0.2222222222222222,
              "#7201a8"
             ],
             [
              0.3333333333333333,
              "#9c179e"
             ],
             [
              0.4444444444444444,
              "#bd3786"
             ],
             [
              0.5555555555555556,
              "#d8576b"
             ],
             [
              0.6666666666666666,
              "#ed7953"
             ],
             [
              0.7777777777777778,
              "#fb9f3a"
             ],
             [
              0.8888888888888888,
              "#fdca26"
             ],
             [
              1,
              "#f0f921"
             ]
            ],
            "type": "histogram2dcontour"
           }
          ],
          "mesh3d": [
           {
            "colorbar": {
             "outlinewidth": 0,
             "ticks": ""
            },
            "type": "mesh3d"
           }
          ],
          "parcoords": [
           {
            "line": {
             "colorbar": {
              "outlinewidth": 0,
              "ticks": ""
             }
            },
            "type": "parcoords"
           }
          ],
          "pie": [
           {
            "automargin": true,
            "type": "pie"
           }
          ],
          "scatter": [
           {
            "fillpattern": {
             "fillmode": "overlay",
             "size": 10,
             "solidity": 0.2
            },
            "type": "scatter"
           }
          ],
          "scatter3d": [
           {
            "line": {
             "colorbar": {
              "outlinewidth": 0,
              "ticks": ""
             }
            },
            "marker": {
             "colorbar": {
              "outlinewidth": 0,
              "ticks": ""
             }
            },
            "type": "scatter3d"
           }
          ],
          "scattercarpet": [
           {
            "marker": {
             "colorbar": {
              "outlinewidth": 0,
              "ticks": ""
             }
            },
            "type": "scattercarpet"
           }
          ],
          "scattergeo": [
           {
            "marker": {
             "colorbar": {
              "outlinewidth": 0,
              "ticks": ""
             }
            },
            "type": "scattergeo"
           }
          ],
          "scattergl": [
           {
            "marker": {
             "colorbar": {
              "outlinewidth": 0,
              "ticks": ""
             }
            },
            "type": "scattergl"
           }
          ],
          "scattermapbox": [
           {
            "marker": {
             "colorbar": {
              "outlinewidth": 0,
              "ticks": ""
             }
            },
            "type": "scattermapbox"
           }
          ],
          "scatterpolar": [
           {
            "marker": {
             "colorbar": {
              "outlinewidth": 0,
              "ticks": ""
             }
            },
            "type": "scatterpolar"
           }
          ],
          "scatterpolargl": [
           {
            "marker": {
             "colorbar": {
              "outlinewidth": 0,
              "ticks": ""
             }
            },
            "type": "scatterpolargl"
           }
          ],
          "scatterternary": [
           {
            "marker": {
             "colorbar": {
              "outlinewidth": 0,
              "ticks": ""
             }
            },
            "type": "scatterternary"
           }
          ],
          "surface": [
           {
            "colorbar": {
             "outlinewidth": 0,
             "ticks": ""
            },
            "colorscale": [
             [
              0,
              "#0d0887"
             ],
             [
              0.1111111111111111,
              "#46039f"
             ],
             [
              0.2222222222222222,
              "#7201a8"
             ],
             [
              0.3333333333333333,
              "#9c179e"
             ],
             [
              0.4444444444444444,
              "#bd3786"
             ],
             [
              0.5555555555555556,
              "#d8576b"
             ],
             [
              0.6666666666666666,
              "#ed7953"
             ],
             [
              0.7777777777777778,
              "#fb9f3a"
             ],
             [
              0.8888888888888888,
              "#fdca26"
             ],
             [
              1,
              "#f0f921"
             ]
            ],
            "type": "surface"
           }
          ],
          "table": [
           {
            "cells": {
             "fill": {
              "color": "#EBF0F8"
             },
             "line": {
              "color": "white"
             }
            },
            "header": {
             "fill": {
              "color": "#C8D4E3"
             },
             "line": {
              "color": "white"
             }
            },
            "type": "table"
           }
          ]
         },
         "layout": {
          "annotationdefaults": {
           "arrowcolor": "#2a3f5f",
           "arrowhead": 0,
           "arrowwidth": 1
          },
          "autotypenumbers": "strict",
          "coloraxis": {
           "colorbar": {
            "outlinewidth": 0,
            "ticks": ""
           }
          },
          "colorscale": {
           "diverging": [
            [
             0,
             "#8e0152"
            ],
            [
             0.1,
             "#c51b7d"
            ],
            [
             0.2,
             "#de77ae"
            ],
            [
             0.3,
             "#f1b6da"
            ],
            [
             0.4,
             "#fde0ef"
            ],
            [
             0.5,
             "#f7f7f7"
            ],
            [
             0.6,
             "#e6f5d0"
            ],
            [
             0.7,
             "#b8e186"
            ],
            [
             0.8,
             "#7fbc41"
            ],
            [
             0.9,
             "#4d9221"
            ],
            [
             1,
             "#276419"
            ]
           ],
           "sequential": [
            [
             0,
             "#0d0887"
            ],
            [
             0.1111111111111111,
             "#46039f"
            ],
            [
             0.2222222222222222,
             "#7201a8"
            ],
            [
             0.3333333333333333,
             "#9c179e"
            ],
            [
             0.4444444444444444,
             "#bd3786"
            ],
            [
             0.5555555555555556,
             "#d8576b"
            ],
            [
             0.6666666666666666,
             "#ed7953"
            ],
            [
             0.7777777777777778,
             "#fb9f3a"
            ],
            [
             0.8888888888888888,
             "#fdca26"
            ],
            [
             1,
             "#f0f921"
            ]
           ],
           "sequentialminus": [
            [
             0,
             "#0d0887"
            ],
            [
             0.1111111111111111,
             "#46039f"
            ],
            [
             0.2222222222222222,
             "#7201a8"
            ],
            [
             0.3333333333333333,
             "#9c179e"
            ],
            [
             0.4444444444444444,
             "#bd3786"
            ],
            [
             0.5555555555555556,
             "#d8576b"
            ],
            [
             0.6666666666666666,
             "#ed7953"
            ],
            [
             0.7777777777777778,
             "#fb9f3a"
            ],
            [
             0.8888888888888888,
             "#fdca26"
            ],
            [
             1,
             "#f0f921"
            ]
           ]
          },
          "colorway": [
           "#636efa",
           "#EF553B",
           "#00cc96",
           "#ab63fa",
           "#FFA15A",
           "#19d3f3",
           "#FF6692",
           "#B6E880",
           "#FF97FF",
           "#FECB52"
          ],
          "font": {
           "color": "#2a3f5f"
          },
          "geo": {
           "bgcolor": "white",
           "lakecolor": "white",
           "landcolor": "#E5ECF6",
           "showlakes": true,
           "showland": true,
           "subunitcolor": "white"
          },
          "hoverlabel": {
           "align": "left"
          },
          "hovermode": "closest",
          "mapbox": {
           "style": "light"
          },
          "paper_bgcolor": "white",
          "plot_bgcolor": "#E5ECF6",
          "polar": {
           "angularaxis": {
            "gridcolor": "white",
            "linecolor": "white",
            "ticks": ""
           },
           "bgcolor": "#E5ECF6",
           "radialaxis": {
            "gridcolor": "white",
            "linecolor": "white",
            "ticks": ""
           }
          },
          "scene": {
           "xaxis": {
            "backgroundcolor": "#E5ECF6",
            "gridcolor": "white",
            "gridwidth": 2,
            "linecolor": "white",
            "showbackground": true,
            "ticks": "",
            "zerolinecolor": "white"
           },
           "yaxis": {
            "backgroundcolor": "#E5ECF6",
            "gridcolor": "white",
            "gridwidth": 2,
            "linecolor": "white",
            "showbackground": true,
            "ticks": "",
            "zerolinecolor": "white"
           },
           "zaxis": {
            "backgroundcolor": "#E5ECF6",
            "gridcolor": "white",
            "gridwidth": 2,
            "linecolor": "white",
            "showbackground": true,
            "ticks": "",
            "zerolinecolor": "white"
           }
          },
          "shapedefaults": {
           "line": {
            "color": "#2a3f5f"
           }
          },
          "ternary": {
           "aaxis": {
            "gridcolor": "white",
            "linecolor": "white",
            "ticks": ""
           },
           "baxis": {
            "gridcolor": "white",
            "linecolor": "white",
            "ticks": ""
           },
           "bgcolor": "#E5ECF6",
           "caxis": {
            "gridcolor": "white",
            "linecolor": "white",
            "ticks": ""
           }
          },
          "title": {
           "x": 0.05
          },
          "xaxis": {
           "automargin": true,
           "gridcolor": "white",
           "linecolor": "white",
           "ticks": "",
           "title": {
            "standoff": 15
           },
           "zerolinecolor": "white",
           "zerolinewidth": 2
          },
          "yaxis": {
           "automargin": true,
           "gridcolor": "white",
           "linecolor": "white",
           "ticks": "",
           "title": {
            "standoff": 15
           },
           "zerolinecolor": "white",
           "zerolinewidth": 2
          }
         }
        }
       }
      },
      "text/html": [
       "<div>                            <div id=\"f0a59cc2-fcae-446e-b2d2-69bfc0245f48\" class=\"plotly-graph-div\" style=\"height:525px; width:100%;\"></div>            <script type=\"text/javascript\">                require([\"plotly\"], function(Plotly) {                    window.PLOTLYENV=window.PLOTLYENV || {};                                    if (document.getElementById(\"f0a59cc2-fcae-446e-b2d2-69bfc0245f48\")) {                    Plotly.newPlot(                        \"f0a59cc2-fcae-446e-b2d2-69bfc0245f48\",                        [{\"marker\":{\"color\":[0,1,2,3,4,5,6,7,8,9,10,11,12,13,14,15,16,17,18,19,20,21,22,23,24,25,26,27,28,29,30,31,32,33,34,35,36,37,38,39,40,41,42,43,44,45,46,47,48,49,50,51,52,53,54,55,56,57,58,59,60,61,62,63,64,65,66,67,68,69,70,71,72,73,74,75,76,77,78,79,80,81,82,83,84,85,86,87,88,89,90,91,92,93,94,95,96,97,98,99,100,101,102,103,104,105,106,107,108,109,110,111,112,113,114,115,116,117,118,119,120,121,122,123,124,125],\"colorscale\":[[0.0,\"#440154\"],[0.1111111111111111,\"#482878\"],[0.2222222222222222,\"#3e4989\"],[0.3333333333333333,\"#31688e\"],[0.4444444444444444,\"#26828e\"],[0.5555555555555556,\"#1f9e89\"],[0.6666666666666666,\"#35b779\"],[0.7777777777777778,\"#6ece58\"],[0.8888888888888888,\"#b5de2b\"],[1.0,\"#fde725\"]],\"opacity\":0.8,\"size\":4},\"mode\":\"markers\",\"x\":[-0.00002133034342409993,0.000010591559548161327,2.7674310484117363e-6,-0.000018095138701930026,0.000018162283716230888,-0.000010690405818752966,4.630732651136497e-6,-8.413316783229532e-6,0.000025056880072478108,-0.00002398604998234476,-6.992291366841593e-6,0.00003537469737212474,-0.00005100419210909453,0.000024612112660079563,0.0000357867112270536,-0.00005481607872363442,0.000027592490410972268,0.00001789988741365122,-0.000044489947982175025,0.000024499298792234695,0.000012875467786195655,-0.000031852336113281616,0.000020307688929027928,0.000012733610173717808,-0.000041677478218759196,0.00003071798026899635,7.35264091632785e-7,-0.000032782281676735016,0.000029031200710706858,7.036810729530265e-6,-0.00004928150393508868,0.000059062900940859275,-0.00002683052016896929,-6.041088178063409e-6,0.000018423710537668866,-6.894743218679447e-6,5.522390675009035e-6,-6.8990891527698735e-6,-6.551994709076897e-6,0.000022178659308144324,-0.000030127120878341863,0.000011285600728962474,0.00003239928635376386,-0.00004908910351188644,0.00002595232444963543,7.695923476133206e-6,-0.000024025506393583236,0.000010602198672520585,1.769090627394736e-6,-6.4896379767265436e-6,0.000013307505772436202,-0.00001092719820474064,1.2597435699168127e-6,0.00001778588080883738,-0.000028686043599104124,0.000012701838373255668,0.00002305612085069404,-0.00003351667323694886,5.059306764742426e-6,0.000022629869833593106,-0.00002461161710051659,-3.866214414095318e-7,0.000018565138784707386,-0.000010388084121851215,-0.0000222064847298974,0.000033958756408966816,-0.000022280926259808905,-3.917895285074622e-6,0.000028459302688987258,-0.00002044030342377625,-2.001641642394746e-6,9.22401055021975e-6,-0.00002142807870089555,0.000015559136263922646,3.6606885150514046e-6,-4.1012690936560165e-6,4.9205073325300856e-6,2.4405036234037873e-6,-0.000012168262209483097,7.25418750471435e-6,5.651623528759565e-7,-2.0901507012278893e-6,-7.662280909555754e-6,0.000017470137931104256,-0.00001879204301206636,9.55988268678885e-6,7.638028644161215e-6,-0.000017874636255336955,8.452381412391792e-6,9.138075563878501e-6,-0.000025511134473168745,0.00002274839767365464,-2.817955779025136e-6,-0.00002200928393395711,0.00003338794831152887,-9.115415752996642e-6,-0.000016486965326981034,0.00002702229106334942,-0.00002192797278018997,-9.716332181410654e-6,0.00003422934581776792,-0.00002831583685300603,1.3834182085955124e-6,0.00002782981442675351,-0.0000410051044011397,0.000024385015321019096,0.00001378576028707273,-0.000035057011543509956,0.000027640265519856132,-7.4223662242804905e-6,-0.00002373191496668966,0.00003731541173939289,-0.000015555739185933684,-0.000012652837643002427,0.0000256139930651719,-0.00002433145406930863,1.1340210733983477e-6,0.000014589088849831957,-0.00001522884643717375,0.00001531403256673638,2.4901509200189983e-6,-0.000022513780056470036,0.00002550680889120657,-0.000016135757955279866,-0.000011926337189960897,0.00004095630236032465],\"y\":[-9.125243739522633e-6,0.000021162228031454713,-0.000022192520271204167,0.000012354249350117457,1.4754703270438987e-6,-6.60076646180164e-6,2.5418757316908256e-6,7.951177474674692e-6,-8.955191533223289e-6,-7.934123714807833e-6,0.00003102380053976212,-0.000028388301803983595,-0.000015450163017472584,0.00005451174445940239,-0.00004582865292876077,-2.1172050868863953e-6,0.000045900155504037345,-0.00004003359912884953,1.8581771100296197e-6,0.00003264347657315514,-0.000031059883732639526,1.9792200103745224e-6,0.00002553133953505013,-0.00003203446589314083,0.000012966228961346872,0.000019848223693115247,-0.00003987621045731913,0.00001653863374056256,0.000027259916468644336,-0.00005183746375429672,0.000029264459837349974,0.000013256281141344718,-0.000037367426665321105,0.000025045555156049818,-6.309980059028762e-6,-3.264617183531532e-6,2.82221797650376e-6,-4.2700933610161325e-6,0.000014414759659836004,-0.000014784529737644464,-0.000012217995232857707,0.00004093609541951282,-0.000036438589937405485,1.5275755817665897e-7,0.000032494711018171455,-0.000027489716865486725,1.155725075144993e-6,0.000015923155126154855,-0.0000171287597836034,0.000011502935738690402,-8.463131895926898e-6,-3.0080272429184405e-6,0.000020780442088609797,-0.000018453614213210848,-5.9246041030536445e-6,0.000027290421744769717,-0.00001732955386047003,-8.132571295463254e-6,0.00003041554823120788,-0.000017881706356082065,-0.000011937345717762717,0.000024237843177763818,-3.895097283999378e-6,-0.000022202494292000568,0.000023719710209829732,1.4096231271372938e-6,-0.00003191575037081713,0.000035602171839132187,-0.000013150644029186817,-5.5706758386269294e-6,0.000016380106902026916,-0.000011218283767976983,-5.7462713127238376e-6,0.000012018209963706053,-0.000017535892734889523,0.00001152287724062843,2.8081766493152474e-6,-6.437836157661456e-6,-4.0208595163116565e-6,0.000012600763353919644,-6.525004258105039e-6,-4.866257463413395e-6,6.977689583560456e-6,-8.15842486665217e-7,-8.712824143604714e-6,0.00001363873633627801,-0.000010717718879283401,8.974791350088544e-8,0.000016109256201186884,-0.00002250799131677836,0.000010221404803872722,0.000014085444413202029,-0.00003321304380265487,0.000023683035101973452,4.680577237061907e-8,-0.000022338907735750392,0.000026477867479189505,-1.091095706743405e-6,-0.000027319187473700925,0.000032261637594765655,-0.000011396369825551702,-0.000020533160814993342,0.000037986113009838736,-0.00002218770670400174,-7.219225387083071e-6,0.0000316614267974889,-0.00003446656419492897,0.000013746078884600199,0.000017008898805674805,-0.00003353593141025886,0.000020336496525861045,5.914584207034101e-6,-0.000026982755783948483,0.000027869693076674797,-7.317340079596273e-6,-0.00001542178361012015,0.00001997025742065071,-0.000016542002414084234,3.1320250815626828e-6,0.00001007663598088592,-0.000017634213351151895,0.000014890198815767677,3.4698997879412194e-6,-0.000028131328355183882,0.000033468259631267086,-0.000011416543434103612],\"z\":[1.2587414171985861e-6,9.942953049664775e-6,-8.22624307855616e-6,0.000012097673943934637,1.8062202907750077e-6,-7.654892591453024e-6,1.9226584155536188e-7,-9.20822600266302e-6,6.724911467613318e-6,-9.35136265458223e-7,-9.71034793297834e-6,0.00002051906533441223,-9.602145154547933e-6,-9.878720004818109e-6,-4.976872329214899e-7,4.8913478477147185e-6,-4.605871993896474e-6,3.247340372443066e-6,0.000010150395753557911,-7.754639538217412e-6,-0.000010841907907467514,6.905953667588842e-6,5.016637284420087e-6,-1.8892726289706492e-6,1.865531879124894e-6,8.046043268496357e-6,-3.141432676021006e-6,-4.5866297518860594e-6,3.749342065632442e-6,3.88533027865902e-7,-0.000012994427487185483,-5.131599195041526e-6,-6.619577789983587e-6,-3.1286116875432955e-6,-8.101588945457733e-6,7.835091002934003e-6,-1.061873259101006e-7,-1.947300729003955e-6,-5.474899629429728e-7,8.763159891179897e-6,-4.569239689159267e-6,-6.7446792440845784e-6,-2.0540495345750016e-6,0.000010959426861016406,1.8663998680900944e-7,-8.321019039679281e-6,7.020669094716743e-6,4.971587050617856e-6,-0.000012145483332141025,1.8902377087095806e-6,-8.236997952500429e-7,8.487030340817282e-6,-6.581349728127024e-6,7.173461481953285e-6,8.68384274530602e-6,-4.657478829378725e-6,9.572056505800778e-6,6.0217661311233515e-6,1.364668329981177e-6,3.508921039677046e-7,3.1938123468624565e-6,3.84452927800805e-6,3.79070273262116e-6,5.9838043065358385e-6,-2.288007768356624e-6,4.527575232836926e-6,1.6435423420671696e-6,7.1499878513863404e-6,-0.00001859458010957988,0.000010732308797490125,-1.4520400300457652e-6,-4.803194631864766e-6,-7.885764996551513e-6,3.636787341859062e-6,-9.174780237353246e-6,2.5292625409002416e-6,-8.388441157724907e-6,0.000014668706835041189,5.185431190262001e-7,3.2790354746668847e-6,-3.5312688249764587e-6,5.8135628650707205e-6,-6.2730401069974765e-6,8.989326595594957e-6,-5.0932530930317764e-6,3.955471352067023e-6,-2.659940426502222e-7,5.838693606101452e-7,6.068531203972819e-6,-9.97422116839501e-6,-2.990240484759787e-6,2.0076319662911788e-6,-9.375736793491355e-6,-4.696714461041707e-7,-1.1504741535032316e-7,8.892676101071098e-6,-6.935085795899176e-6,6.773524050864319e-6,7.492029548008814e-6,-3.524473860007119e-6,-4.995017181202222e-6,4.268440549112807e-6,1.7820781297990674e-6,-7.256900505891375e-6,-4.732555511688858e-6,-6.385581464506208e-7,-0.000013678806503773127,2.738298771859875e-6,6.740556346489233e-6,-4.275687262262887e-6,-4.56274437921291e-6,2.346802391941892e-6,-2.6952266763814124e-6,1.73160892720177e-6,-1.5479562116187435e-6,2.8188537035615868e-6,1.6312820266531028e-6,-7.718043256998213e-6,1.6269546507477413e-6,3.3510742973e-8,2.300009064889731e-6,-3.2888388854507864e-6,0.00001190443159114663,2.468353062874746e-6,-9.551826892001401e-6,5.340515023560378e-7],\"type\":\"scatter3d\"}],                        {\"template\":{\"data\":{\"histogram2dcontour\":[{\"type\":\"histogram2dcontour\",\"colorbar\":{\"outlinewidth\":0,\"ticks\":\"\"},\"colorscale\":[[0.0,\"#0d0887\"],[0.1111111111111111,\"#46039f\"],[0.2222222222222222,\"#7201a8\"],[0.3333333333333333,\"#9c179e\"],[0.4444444444444444,\"#bd3786\"],[0.5555555555555556,\"#d8576b\"],[0.6666666666666666,\"#ed7953\"],[0.7777777777777778,\"#fb9f3a\"],[0.8888888888888888,\"#fdca26\"],[1.0,\"#f0f921\"]]}],\"choropleth\":[{\"type\":\"choropleth\",\"colorbar\":{\"outlinewidth\":0,\"ticks\":\"\"}}],\"histogram2d\":[{\"type\":\"histogram2d\",\"colorbar\":{\"outlinewidth\":0,\"ticks\":\"\"},\"colorscale\":[[0.0,\"#0d0887\"],[0.1111111111111111,\"#46039f\"],[0.2222222222222222,\"#7201a8\"],[0.3333333333333333,\"#9c179e\"],[0.4444444444444444,\"#bd3786\"],[0.5555555555555556,\"#d8576b\"],[0.6666666666666666,\"#ed7953\"],[0.7777777777777778,\"#fb9f3a\"],[0.8888888888888888,\"#fdca26\"],[1.0,\"#f0f921\"]]}],\"heatmap\":[{\"type\":\"heatmap\",\"colorbar\":{\"outlinewidth\":0,\"ticks\":\"\"},\"colorscale\":[[0.0,\"#0d0887\"],[0.1111111111111111,\"#46039f\"],[0.2222222222222222,\"#7201a8\"],[0.3333333333333333,\"#9c179e\"],[0.4444444444444444,\"#bd3786\"],[0.5555555555555556,\"#d8576b\"],[0.6666666666666666,\"#ed7953\"],[0.7777777777777778,\"#fb9f3a\"],[0.8888888888888888,\"#fdca26\"],[1.0,\"#f0f921\"]]}],\"heatmapgl\":[{\"type\":\"heatmapgl\",\"colorbar\":{\"outlinewidth\":0,\"ticks\":\"\"},\"colorscale\":[[0.0,\"#0d0887\"],[0.1111111111111111,\"#46039f\"],[0.2222222222222222,\"#7201a8\"],[0.3333333333333333,\"#9c179e\"],[0.4444444444444444,\"#bd3786\"],[0.5555555555555556,\"#d8576b\"],[0.6666666666666666,\"#ed7953\"],[0.7777777777777778,\"#fb9f3a\"],[0.8888888888888888,\"#fdca26\"],[1.0,\"#f0f921\"]]}],\"contourcarpet\":[{\"type\":\"contourcarpet\",\"colorbar\":{\"outlinewidth\":0,\"ticks\":\"\"}}],\"contour\":[{\"type\":\"contour\",\"colorbar\":{\"outlinewidth\":0,\"ticks\":\"\"},\"colorscale\":[[0.0,\"#0d0887\"],[0.1111111111111111,\"#46039f\"],[0.2222222222222222,\"#7201a8\"],[0.3333333333333333,\"#9c179e\"],[0.4444444444444444,\"#bd3786\"],[0.5555555555555556,\"#d8576b\"],[0.6666666666666666,\"#ed7953\"],[0.7777777777777778,\"#fb9f3a\"],[0.8888888888888888,\"#fdca26\"],[1.0,\"#f0f921\"]]}],\"surface\":[{\"type\":\"surface\",\"colorbar\":{\"outlinewidth\":0,\"ticks\":\"\"},\"colorscale\":[[0.0,\"#0d0887\"],[0.1111111111111111,\"#46039f\"],[0.2222222222222222,\"#7201a8\"],[0.3333333333333333,\"#9c179e\"],[0.4444444444444444,\"#bd3786\"],[0.5555555555555556,\"#d8576b\"],[0.6666666666666666,\"#ed7953\"],[0.7777777777777778,\"#fb9f3a\"],[0.8888888888888888,\"#fdca26\"],[1.0,\"#f0f921\"]]}],\"mesh3d\":[{\"type\":\"mesh3d\",\"colorbar\":{\"outlinewidth\":0,\"ticks\":\"\"}}],\"scatter\":[{\"fillpattern\":{\"fillmode\":\"overlay\",\"size\":10,\"solidity\":0.2},\"type\":\"scatter\"}],\"parcoords\":[{\"type\":\"parcoords\",\"line\":{\"colorbar\":{\"outlinewidth\":0,\"ticks\":\"\"}}}],\"scatterpolargl\":[{\"type\":\"scatterpolargl\",\"marker\":{\"colorbar\":{\"outlinewidth\":0,\"ticks\":\"\"}}}],\"bar\":[{\"error_x\":{\"color\":\"#2a3f5f\"},\"error_y\":{\"color\":\"#2a3f5f\"},\"marker\":{\"line\":{\"color\":\"#E5ECF6\",\"width\":0.5},\"pattern\":{\"fillmode\":\"overlay\",\"size\":10,\"solidity\":0.2}},\"type\":\"bar\"}],\"scattergeo\":[{\"type\":\"scattergeo\",\"marker\":{\"colorbar\":{\"outlinewidth\":0,\"ticks\":\"\"}}}],\"scatterpolar\":[{\"type\":\"scatterpolar\",\"marker\":{\"colorbar\":{\"outlinewidth\":0,\"ticks\":\"\"}}}],\"histogram\":[{\"marker\":{\"pattern\":{\"fillmode\":\"overlay\",\"size\":10,\"solidity\":0.2}},\"type\":\"histogram\"}],\"scattergl\":[{\"type\":\"scattergl\",\"marker\":{\"colorbar\":{\"outlinewidth\":0,\"ticks\":\"\"}}}],\"scatter3d\":[{\"type\":\"scatter3d\",\"line\":{\"colorbar\":{\"outlinewidth\":0,\"ticks\":\"\"}},\"marker\":{\"colorbar\":{\"outlinewidth\":0,\"ticks\":\"\"}}}],\"scattermapbox\":[{\"type\":\"scattermapbox\",\"marker\":{\"colorbar\":{\"outlinewidth\":0,\"ticks\":\"\"}}}],\"scatterternary\":[{\"type\":\"scatterternary\",\"marker\":{\"colorbar\":{\"outlinewidth\":0,\"ticks\":\"\"}}}],\"scattercarpet\":[{\"type\":\"scattercarpet\",\"marker\":{\"colorbar\":{\"outlinewidth\":0,\"ticks\":\"\"}}}],\"carpet\":[{\"aaxis\":{\"endlinecolor\":\"#2a3f5f\",\"gridcolor\":\"white\",\"linecolor\":\"white\",\"minorgridcolor\":\"white\",\"startlinecolor\":\"#2a3f5f\"},\"baxis\":{\"endlinecolor\":\"#2a3f5f\",\"gridcolor\":\"white\",\"linecolor\":\"white\",\"minorgridcolor\":\"white\",\"startlinecolor\":\"#2a3f5f\"},\"type\":\"carpet\"}],\"table\":[{\"cells\":{\"fill\":{\"color\":\"#EBF0F8\"},\"line\":{\"color\":\"white\"}},\"header\":{\"fill\":{\"color\":\"#C8D4E3\"},\"line\":{\"color\":\"white\"}},\"type\":\"table\"}],\"barpolar\":[{\"marker\":{\"line\":{\"color\":\"#E5ECF6\",\"width\":0.5},\"pattern\":{\"fillmode\":\"overlay\",\"size\":10,\"solidity\":0.2}},\"type\":\"barpolar\"}],\"pie\":[{\"automargin\":true,\"type\":\"pie\"}]},\"layout\":{\"autotypenumbers\":\"strict\",\"colorway\":[\"#636efa\",\"#EF553B\",\"#00cc96\",\"#ab63fa\",\"#FFA15A\",\"#19d3f3\",\"#FF6692\",\"#B6E880\",\"#FF97FF\",\"#FECB52\"],\"font\":{\"color\":\"#2a3f5f\"},\"hovermode\":\"closest\",\"hoverlabel\":{\"align\":\"left\"},\"paper_bgcolor\":\"white\",\"plot_bgcolor\":\"#E5ECF6\",\"polar\":{\"bgcolor\":\"#E5ECF6\",\"angularaxis\":{\"gridcolor\":\"white\",\"linecolor\":\"white\",\"ticks\":\"\"},\"radialaxis\":{\"gridcolor\":\"white\",\"linecolor\":\"white\",\"ticks\":\"\"}},\"ternary\":{\"bgcolor\":\"#E5ECF6\",\"aaxis\":{\"gridcolor\":\"white\",\"linecolor\":\"white\",\"ticks\":\"\"},\"baxis\":{\"gridcolor\":\"white\",\"linecolor\":\"white\",\"ticks\":\"\"},\"caxis\":{\"gridcolor\":\"white\",\"linecolor\":\"white\",\"ticks\":\"\"}},\"coloraxis\":{\"colorbar\":{\"outlinewidth\":0,\"ticks\":\"\"}},\"colorscale\":{\"sequential\":[[0.0,\"#0d0887\"],[0.1111111111111111,\"#46039f\"],[0.2222222222222222,\"#7201a8\"],[0.3333333333333333,\"#9c179e\"],[0.4444444444444444,\"#bd3786\"],[0.5555555555555556,\"#d8576b\"],[0.6666666666666666,\"#ed7953\"],[0.7777777777777778,\"#fb9f3a\"],[0.8888888888888888,\"#fdca26\"],[1.0,\"#f0f921\"]],\"sequentialminus\":[[0.0,\"#0d0887\"],[0.1111111111111111,\"#46039f\"],[0.2222222222222222,\"#7201a8\"],[0.3333333333333333,\"#9c179e\"],[0.4444444444444444,\"#bd3786\"],[0.5555555555555556,\"#d8576b\"],[0.6666666666666666,\"#ed7953\"],[0.7777777777777778,\"#fb9f3a\"],[0.8888888888888888,\"#fdca26\"],[1.0,\"#f0f921\"]],\"diverging\":[[0,\"#8e0152\"],[0.1,\"#c51b7d\"],[0.2,\"#de77ae\"],[0.3,\"#f1b6da\"],[0.4,\"#fde0ef\"],[0.5,\"#f7f7f7\"],[0.6,\"#e6f5d0\"],[0.7,\"#b8e186\"],[0.8,\"#7fbc41\"],[0.9,\"#4d9221\"],[1,\"#276419\"]]},\"xaxis\":{\"gridcolor\":\"white\",\"linecolor\":\"white\",\"ticks\":\"\",\"title\":{\"standoff\":15},\"zerolinecolor\":\"white\",\"automargin\":true,\"zerolinewidth\":2},\"yaxis\":{\"gridcolor\":\"white\",\"linecolor\":\"white\",\"ticks\":\"\",\"title\":{\"standoff\":15},\"zerolinecolor\":\"white\",\"automargin\":true,\"zerolinewidth\":2},\"scene\":{\"xaxis\":{\"backgroundcolor\":\"#E5ECF6\",\"gridcolor\":\"white\",\"linecolor\":\"white\",\"showbackground\":true,\"ticks\":\"\",\"zerolinecolor\":\"white\",\"gridwidth\":2},\"yaxis\":{\"backgroundcolor\":\"#E5ECF6\",\"gridcolor\":\"white\",\"linecolor\":\"white\",\"showbackground\":true,\"ticks\":\"\",\"zerolinecolor\":\"white\",\"gridwidth\":2},\"zaxis\":{\"backgroundcolor\":\"#E5ECF6\",\"gridcolor\":\"white\",\"linecolor\":\"white\",\"showbackground\":true,\"ticks\":\"\",\"zerolinecolor\":\"white\",\"gridwidth\":2}},\"shapedefaults\":{\"line\":{\"color\":\"#2a3f5f\"}},\"annotationdefaults\":{\"arrowcolor\":\"#2a3f5f\",\"arrowhead\":0,\"arrowwidth\":1},\"geo\":{\"bgcolor\":\"white\",\"landcolor\":\"#E5ECF6\",\"subunitcolor\":\"white\",\"showland\":true,\"showlakes\":true,\"lakecolor\":\"white\"},\"title\":{\"x\":0.05},\"mapbox\":{\"style\":\"light\"}}},\"scene\":{\"xaxis\":{\"title\":{\"text\":\"0th\"},\"type\":\"linear\",\"showexponent\":\"all\",\"exponentformat\":\"e\"},\"yaxis\":{\"title\":{\"text\":\"1st\"},\"type\":\"linear\",\"showexponent\":\"all\",\"exponentformat\":\"e\"},\"zaxis\":{\"title\":{\"text\":\"2nd\"},\"type\":\"linear\",\"showexponent\":\"all\",\"exponentformat\":\"e\"}}},                        {\"responsive\": true}                    ).then(function(){\n",
       "                            \n",
       "var gd = document.getElementById('f0a59cc2-fcae-446e-b2d2-69bfc0245f48');\n",
       "var x = new MutationObserver(function (mutations, observer) {{\n",
       "        var display = window.getComputedStyle(gd).display;\n",
       "        if (!display || display === 'none') {{\n",
       "            console.log([gd, 'removed!']);\n",
       "            Plotly.purge(gd);\n",
       "            observer.disconnect();\n",
       "        }}\n",
       "}});\n",
       "\n",
       "// Listen for the removal of the full notebook cells\n",
       "var notebookContainer = gd.closest('#notebook-container');\n",
       "if (notebookContainer) {{\n",
       "    x.observe(notebookContainer, {childList: true});\n",
       "}}\n",
       "\n",
       "// Listen for the clearing of the current output cell\n",
       "var outputEl = gd.closest('.output');\n",
       "if (outputEl) {{\n",
       "    x.observe(outputEl, {childList: true});\n",
       "}}\n",
       "\n",
       "                        })                };                });            </script>        </div>"
      ]
     },
     "metadata": {},
     "output_type": "display_data"
    }
   ],
   "source": [
    "from sklearn.decomposition import PCA\n",
    "from gtda.plotting import plot_point_cloud\n",
    "\n",
    "pca = PCA(n_components=3)\n",
    "y_gw_embedded_pca = pca.fit_transform(y_signal_embedded)\n",
    "\n",
    "plot_point_cloud(y_gw_embedded_pca)"
   ]
  }
 ],
 "metadata": {
  "kernelspec": {
   "display_name": "work",
   "language": "python",
   "name": "python3"
  },
  "language_info": {
   "codemirror_mode": {
    "name": "ipython",
    "version": 3
   },
   "file_extension": ".py",
   "mimetype": "text/x-python",
   "name": "python",
   "nbconvert_exporter": "python",
   "pygments_lexer": "ipython3",
   "version": "3.12.2"
  }
 },
 "nbformat": 4,
 "nbformat_minor": 2
}
