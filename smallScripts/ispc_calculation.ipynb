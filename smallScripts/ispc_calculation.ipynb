{
 "cells": [
  {
   "cell_type": "code",
   "execution_count": 1,
   "metadata": {},
   "outputs": [
    {
     "name": "stderr",
     "output_type": "stream",
     "text": [
      "/home/server/.local/lib/python3.10/site-packages/matplotlib/projections/__init__.py:63: UserWarning: Unable to import Axes3D. This may be due to multiple versions of Matplotlib being installed (e.g. as a system package and as a pip package). As a result, the 3D projection is not available.\n",
      "  warnings.warn(\"Unable to import Axes3D. This may be due to multiple versions of \"\n"
     ]
    }
   ],
   "source": [
    "import pandas as pd\n",
    "import numpy as np\n",
    "import pathlib\n",
    "import mne\n",
    "from mne.time_frequency import tfr_morlet"
   ]
  },
  {
   "cell_type": "code",
   "execution_count": 2,
   "metadata": {},
   "outputs": [],
   "source": [
    "def get_filtered_eeg(raw, low_freq=8, high_freq=30,n_components=15):\n",
    "    \n",
    "    raw_filtered = raw.notch_filter(freqs=50)\n",
    "    # Apply the bandpass filter\n",
    "    raw_filtered = raw_filtered.filter(l_freq=low_freq, h_freq=high_freq, fir_design='firwin', n_jobs=20)\n",
    "    ica = mne.preprocessing.ICA(n_components=n_components, max_iter=\"auto\", random_state=97)\n",
    "    ica.fit(raw_filtered)\n",
    "    ica.exclude = []\n",
    "    # find which ICs match the EOG pattern; no EOG attached, Taking Fp1 as proxy\n",
    "    eog_indices, eog_scores = ica.find_bads_eog(raw_filtered,ch_name=\"Fp1\")\n",
    "    ica.exclude = eog_indices\n",
    "    ica.apply(raw_filtered)\n",
    "    return raw_filtered\n",
    "\n",
    "def get_trials(rawData, epoch_length, n_groups=4, fs=256,duration=599):\n",
    "    \"\"\"\n",
    "    Input -----\n",
    "    \n",
    "    rawData : List of mne raw\n",
    "    epoch_length : float\n",
    "        length of each epoch\n",
    "    \n",
    "    Output ------\n",
    "    \n",
    "    combinedEpochs : List \n",
    "        length of List = n_groups.\n",
    "        Each group has trials.\n",
    "    \"\"\"\n",
    "    # Initialization\n",
    "    n_sub = len(rawData)\n",
    "    n_sub_per_group = int(n_sub / n_groups)\n",
    "    print(n_sub_per_group)\n",
    "    epochsList = []\n",
    "    trialsList = [[] for _ in range(n_groups)]\n",
    "    # Output Initialization\n",
    "    # combinedEpochs = [[] for _ in range(n_groups)]\n",
    "    # creating Fake Events\n",
    "    events = np.array([[int(i * epoch_length * fs), 0, 1] for i in range(int(duration // epoch_length))])\n",
    "    event_id = 1\n",
    "    tmin, tmax = 0, epoch_length  # Epoch start and end times\n",
    "    # creating epochs \n",
    "    for i in range(n_sub):\n",
    "        epochs = mne.Epochs(rawData[i], events, event_id, tmin, tmax, baseline=None, preload=True)\n",
    "        epochsList.append(epochs)\n",
    "    n_epoch_per_sub = len(epochsList[0])\n",
    "    # creating trials\n",
    "    for k in range(n_groups):\n",
    "        for i in range(n_epoch_per_sub):\n",
    "            trials = [[] for _ in range(n_groups)]\n",
    "            for j in range(n_sub_per_group):\n",
    "                epoch = epochsList[j + k*n_sub_per_group][i]\n",
    "                trials[k].append(epoch)\n",
    "            trialsList[k].append(trials[k])\n",
    "    # combining epochs in each trial\n",
    "    # for k in range(n_groups):\n",
    "    #     for i in range(n_epoch_per_sub):\n",
    "    #         # Converting into Epoch object\n",
    "    #         combinedEpochs[k].append(mne.concatenate_epochs(trialsList[k][i]))\n",
    "    # return combinedEpochs\n",
    "    return trialsList\n",
    "\n",
    "def get_tfr(combinedEpochs,low_freq=8,high_freq=30):\n",
    "    # Define Morlet wavelet parameters\n",
    "    frequencies = np.arange(low_freq, high_freq, 1)  # Frequencies of interest from 1 to 50 Hz\n",
    "    n_cycles = frequencies / 2.  # Number of cycles in Morlet wavelet\n",
    "    n_groups = len(combinedEpochs)\n",
    "    n_epoch_per_sub = len(combinedEpochs[0])\n",
    "    powerD = [[] for _ in range(n_groups)]\n",
    "    itcD = [[] for _ in range(n_groups)]\n",
    "    for k in range(n_groups):\n",
    "        for i in range(n_epoch_per_sub):\n",
    "            power, itc = mne.time_frequency.tfr_morlet(combinedEpochs[k][i], freqs=frequencies, n_cycles=n_cycles, use_fft=True,output='power',return_itc=True, n_jobs=-1) \n",
    "            powerD[k].append(power)\n",
    "            itcD[k].append(itc)\n",
    "    return powerD, itcD"
   ]
  },
  {
   "cell_type": "code",
   "execution_count": 3,
   "metadata": {},
   "outputs": [],
   "source": [
    "types = 'med2'\n",
    "sub_per_type = 2\n",
    "data_dir = \"./data/files\"\n",
    "data_dir = pathlib.Path(data_dir)\n",
    "supersetfiles = list(data_dir.glob(f'*{types}*.txt'))\n",
    "FILES = [[] for _ in range(4)]\n",
    "for i, ssfile in enumerate(supersetfiles):\n",
    "    with open(ssfile, 'r') as file:\n",
    "        c = 0\n",
    "        for line in file:\n",
    "            if(c<sub_per_type):\n",
    "                FILES[i].append(line.strip())\n",
    "                c = c+1\n",
    "            else:\n",
    "                break"
   ]
  },
  {
   "cell_type": "code",
   "execution_count": 4,
   "metadata": {},
   "outputs": [
    {
     "data": {
      "text/plain": [
       "[['../sub-081/eeg/sub-081_task-med2_eeg.bdf',\n",
       "  '../sub-095/eeg/sub-095_task-med2_eeg.bdf'],\n",
       " ['../sub-032/eeg/sub-032_task-med2_eeg.bdf',\n",
       "  '../sub-034/eeg/sub-034_task-med2_eeg.bdf'],\n",
       " ['../sub-078/eeg/sub-078_task-med2_eeg.bdf',\n",
       "  '../sub-067/eeg/sub-067_task-med2_eeg.bdf'],\n",
       " ['../sub-013/eeg/sub-013_task-med2_eeg.bdf',\n",
       "  '../sub-020/eeg/sub-020_task-med2_eeg.bdf']]"
      ]
     },
     "execution_count": 4,
     "metadata": {},
     "output_type": "execute_result"
    }
   ],
   "source": [
    "FILES"
   ]
  },
  {
   "cell_type": "code",
   "execution_count": 5,
   "metadata": {},
   "outputs": [],
   "source": [
    "%%capture\n",
    "rawData = [[] for _ in range(4)]\n",
    "for k in range(4):\n",
    "    for i in range(sub_per_type):\n",
    "        try:\n",
    "            raw = mne.io.read_raw_bdf(FILES[k][i],preload=True)\n",
    "            total_time_sec = raw.times[-1] - raw.times[0]\n",
    "            if total_time_sec >= 599:\n",
    "                n = raw.info['ch_names']\n",
    "                if(len(n)==73):\n",
    "                    raw = raw.drop_channels(n[-9:])\n",
    "                elif(len(n)==80):\n",
    "                    raw = raw.drop_channels(n[-16:])\n",
    "                raw = raw.crop(tmin=0, tmax=599)\n",
    "                raw_ds = raw.resample(256, n_jobs='cuda')\n",
    "                rawf=get_filtered_eeg(raw, low_freq=8, high_freq=30,n_components=15)\n",
    "                rawData[k].append(rawf)\n",
    "        except:\n",
    "            print(\"hi\")"
   ]
  },
  {
   "cell_type": "code",
   "execution_count": 6,
   "metadata": {},
   "outputs": [
    {
     "data": {
      "text/plain": [
       "[<RawEDF | sub-081_task-med2_eeg.bdf, 64 x 153344 (599.0 s), ~74.9 MB, data loaded>,\n",
       " <RawEDF | sub-095_task-med2_eeg.bdf, 64 x 153344 (599.0 s), ~74.9 MB, data loaded>,\n",
       " <RawEDF | sub-032_task-med2_eeg.bdf, 64 x 153344 (599.0 s), ~74.9 MB, data loaded>,\n",
       " <RawEDF | sub-034_task-med2_eeg.bdf, 64 x 153344 (599.0 s), ~74.9 MB, data loaded>,\n",
       " <RawEDF | sub-078_task-med2_eeg.bdf, 64 x 153344 (599.0 s), ~74.9 MB, data loaded>,\n",
       " <RawEDF | sub-067_task-med2_eeg.bdf, 64 x 153344 (599.0 s), ~74.9 MB, data loaded>,\n",
       " <RawEDF | sub-013_task-med2_eeg.bdf, 64 x 153344 (599.0 s), ~74.9 MB, data loaded>,\n",
       " <RawEDF | sub-020_task-med2_eeg.bdf, 64 x 153344 (599.0 s), ~74.9 MB, data loaded>]"
      ]
     },
     "execution_count": 6,
     "metadata": {},
     "output_type": "execute_result"
    }
   ],
   "source": [
    "rawData = rawData[0] + rawData[1] + rawData[2] + rawData[3]\n",
    "rawData"
   ]
  },
  {
   "cell_type": "code",
   "execution_count": 7,
   "metadata": {},
   "outputs": [
    {
     "data": {
      "text/plain": [
       "[<RawEDF | sub-081_task-med2_eeg.bdf, 64 x 153344 (599.0 s), ~74.9 MB, data loaded>]"
      ]
     },
     "execution_count": 7,
     "metadata": {},
     "output_type": "execute_result"
    }
   ],
   "source": [
    "sampleRaw = [rawData[0]]\n",
    "sampleRaw"
   ]
  },
  {
   "cell_type": "code",
   "execution_count": 22,
   "metadata": {},
   "outputs": [
    {
     "name": "stdout",
     "output_type": "stream",
     "text": [
      "Not setting metadata\n",
      "119 matching events found\n",
      "No baseline correction applied\n",
      "0 projection items activated\n",
      "Using data from preloaded Raw for 119 events and 1281 original time points ...\n",
      "0 bad epochs dropped\n"
     ]
    }
   ],
   "source": [
    "n_sub = len(sampleRaw)\n",
    "epochsList = []\n",
    "\n",
    "events = np.array([[int(i * 5 * 256), 0, 1] for i in range(int(599 // 5))])\n",
    "event_id = 1\n",
    "tmin, tmax = 0, 5  # Epoch start and end times\n",
    "    # creating epochs \n",
    "for i in range(n_sub):\n",
    "    epochs = mne.Epochs(sampleRaw[i], events, event_id, tmin, tmax, baseline=None, preload=True)\n",
    "    epochsList.append(epochs)\n",
    "n_epoch_per_sub = len(epochsList[0])"
   ]
  },
  {
   "cell_type": "code",
   "execution_count": 23,
   "metadata": {},
   "outputs": [
    {
     "data": {
      "text/html": [
       "<table class=\"table table-hover table-striped table-sm table-responsive small\">\n",
       "    <tr>\n",
       "        <th>Number of events</th>\n",
       "        <td>119</td>\n",
       "    </tr>\n",
       "    <tr>\n",
       "        <th>Events</th>\n",
       "        \n",
       "        <td>1: 119</td>\n",
       "        \n",
       "    </tr>\n",
       "    <tr>\n",
       "        <th>Time range</th>\n",
       "        <td>0.000 – 5.000 s</td>\n",
       "    </tr>\n",
       "    <tr>\n",
       "        <th>Baseline</th>\n",
       "        <td>off</td>\n",
       "    </tr>\n",
       "</table>"
      ],
      "text/plain": [
       "<Epochs |  119 events (all good), 0 – 5 s, baseline off, ~74.5 MB, data loaded,\n",
       " '1': 119>"
      ]
     },
     "execution_count": 23,
     "metadata": {},
     "output_type": "execute_result"
    }
   ],
   "source": [
    "epochsList[0]"
   ]
  },
  {
   "cell_type": "code",
   "execution_count": 24,
   "metadata": {},
   "outputs": [],
   "source": [
    "frequencies = np.arange(8,30, 1)  # Frequencies of interest from 1 to 50 Hz\n",
    "n_cycles = frequencies / 2.  # Number of cycles in Morlet wavelet\n",
    "fs = 256"
   ]
  },
  {
   "cell_type": "code",
   "execution_count": 53,
   "metadata": {},
   "outputs": [],
   "source": [
    "# compute complex signal\n",
    "complex_signal = mne.time_frequency.tfr_array_morlet(epochsList[0][0].get_data(), sfreq=fs, freqs=frequencies, n_cycles=n_cycles,use_fft=True, output='complex', n_jobs=20)\n",
    "\n",
    "# Add a new axis to array to enable broadcasting\n",
    "array_expanded = complex_signal[0][:, np.newaxis, :, :]\n",
    "\n",
    "# Compute the pairwise differences using broadcasting\n",
    "differences = array_expanded - complex_signal[0][np.newaxis, :, :, :]\n",
    "\n",
    "# compute angle\n",
    "differences = np.angle(differences)"
   ]
  },
  {
   "cell_type": "code",
   "execution_count": 29,
   "metadata": {},
   "outputs": [
    {
     "data": {
      "text/plain": [
       "(64, 64, 22, 1281)"
      ]
     },
     "execution_count": 29,
     "metadata": {},
     "output_type": "execute_result"
    }
   ],
   "source": [
    "differences.shape"
   ]
  }
 ],
 "metadata": {
  "kernelspec": {
   "display_name": "work",
   "language": "python",
   "name": "python3"
  },
  "language_info": {
   "codemirror_mode": {
    "name": "ipython",
    "version": 3
   },
   "file_extension": ".py",
   "mimetype": "text/x-python",
   "name": "python",
   "nbconvert_exporter": "python",
   "pygments_lexer": "ipython3",
   "version": "3.1.undefined"
  }
 },
 "nbformat": 4,
 "nbformat_minor": 2
}
